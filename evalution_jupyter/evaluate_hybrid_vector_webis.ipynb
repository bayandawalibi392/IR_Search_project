{
 "cells": [
  {
   "cell_type": "code",
   "execution_count": 70,
   "id": "bf279cf4",
   "metadata": {},
   "outputs": [],
   "source": [
    "import sqlite3\n",
    "import joblib\n",
    "import numpy as np\n",
    "import time\n",
    "import faiss\n",
    "import json\n",
    "import warnings\n",
    "import torch\n",
    "from sklearn.metrics import average_precision_score\n",
    "from sklearn.metrics.pairwise import cosine_similarity\n",
    "from TextPreprocessor import TextPreprocessor\n",
    "from sentence_transformers import SentenceTransformer\n",
    "import pandas as pd"
   ]
  },
  {
   "cell_type": "code",
   "execution_count": 53,
   "id": "df8d614a",
   "metadata": {},
   "outputs": [],
   "source": [
    "# إعدادات\n",
    "DB_PATH = 'ir_project.db'\n",
    "MODEL_DIR = 'models'\n",
    "INDEX_DIR = 'indexes'\n",
    "GROUP = 'webis'\n",
    "TOP_K = 10\n",
    "ALPHA = 0.7  # معامل الدمج بين TF-IDF و BERT"
   ]
  },
  {
   "cell_type": "code",
   "execution_count": 54,
   "id": "69e84439",
   "metadata": {},
   "outputs": [],
   "source": [
    "# تقليل استهلاك المعالج\n",
    "torch.set_num_threads(4)"
   ]
  },
  {
   "cell_type": "code",
   "execution_count": 55,
   "id": "e7faa69c",
   "metadata": {},
   "outputs": [
    {
     "name": "stdout",
     "output_type": "stream",
     "text": [
      "📦 تحميل النماذج والبيانات...\n"
     ]
    }
   ],
   "source": [
    "print(\"📦 تحميل النماذج والبيانات...\")"
   ]
  },
  {
   "cell_type": "code",
   "execution_count": 56,
   "id": "5fb351c0",
   "metadata": {},
   "outputs": [],
   "source": [
    "# تحميل البيانات\n",
    "tfidf_vectorizer = joblib.load(f\"{MODEL_DIR}/tfidf_vectorizer_{GROUP}.joblib\")\n",
    "tfidf_matrix = joblib.load(f\"{MODEL_DIR}/tfidf_vectors_{GROUP}.joblib\")\n",
    "tfidf_doc_ids = joblib.load(f\"{MODEL_DIR}/doc_ids_{GROUP}.joblib\")"
   ]
  },
  {
   "cell_type": "code",
   "execution_count": 57,
   "id": "8b99debb",
   "metadata": {},
   "outputs": [],
   "source": [
    "bert_doc_ids = joblib.load(f\"{MODEL_DIR}/doc_ids_bert_{GROUP}.joblib\")\n",
    "bert_id_to_index = {doc_id: i for i, doc_id in enumerate(bert_doc_ids)}"
   ]
  },
  {
   "cell_type": "code",
   "execution_count": 58,
   "id": "34582737",
   "metadata": {},
   "outputs": [],
   "source": [
    "faiss_index = faiss.read_index(f\"{INDEX_DIR}/faiss_index_{GROUP}_bert.index\")\n",
    "inverted_index = joblib.load(f\"{INDEX_DIR}/inverted_index1_{GROUP}.joblib\")"
   ]
  },
  {
   "cell_type": "code",
   "execution_count": 59,
   "id": "34f12aef",
   "metadata": {},
   "outputs": [],
   "source": [
    "# قاعدة البيانات\n",
    "conn = sqlite3.connect(DB_PATH)\n",
    "cursor = conn.cursor()"
   ]
  },
  {
   "cell_type": "code",
   "execution_count": 60,
   "id": "86951a46",
   "metadata": {},
   "outputs": [],
   "source": [
    "cursor.execute(\"SELECT query_id, query_text FROM queries WHERE source = ?\", (GROUP,))\n",
    "queries = cursor.fetchall()\n",
    "query_dict = {q_id: text for q_id, text in queries}"
   ]
  },
  {
   "cell_type": "code",
   "execution_count": 61,
   "id": "e771be2c",
   "metadata": {},
   "outputs": [],
   "source": [
    "cursor.execute(\"SELECT query_id, doc_id FROM qrels WHERE source = ?\", (GROUP,))\n",
    "qrel_rows = cursor.fetchall()\n",
    "qrels = {}\n",
    "for q_id, doc_id in qrel_rows:\n",
    "    qrels.setdefault(q_id, set()).add(doc_id)"
   ]
  },
  {
   "cell_type": "code",
   "execution_count": 62,
   "id": "f9d28eae",
   "metadata": {},
   "outputs": [],
   "source": [
    "# التحضير\n",
    "pre = TextPreprocessor()\n",
    "bert_model = SentenceTransformer('sentence-transformers/all-MiniLM-L6-v2', device='cpu')\n"
   ]
  },
  {
   "cell_type": "code",
   "execution_count": 63,
   "id": "172c02a1",
   "metadata": {},
   "outputs": [],
   "source": [
    "map_scores, mrr_scores, recall_scores, precision_scores = [], [], [], []\n",
    "start_time = time.perf_counter()"
   ]
  },
  {
   "cell_type": "code",
   "execution_count": 64,
   "id": "e82ed6e7",
   "metadata": {},
   "outputs": [],
   "source": [
    "for query_id, query_text in query_dict.items():\n",
    "    tokens = pre.preprocess(query_text, use_stemming=True, use_lemmatization=False)\n",
    "    if not tokens:\n",
    "        continue\n",
    "\n",
    "    query_str = pre.clean_text(' '.join(tokens))\n",
    "    query_vec_tfidf = tfidf_vectorizer.transform([query_str])\n",
    "    query_vec_bert = bert_model.encode([' '.join(tokens)]).astype('float32')\n",
    "\n",
    "    # مرشحي TF-IDF\n",
    "    candidate_indices = set()\n",
    "    for token in tokens:\n",
    "        if token in inverted_index:\n",
    "            candidate_indices.update(inverted_index[token])\n",
    "    if not candidate_indices:\n",
    "        continue\n",
    "\n",
    "    candidate_indices = sorted(candidate_indices)\n",
    "    candidate_tfidf = tfidf_matrix[candidate_indices]\n",
    "    candidate_doc_ids = [tfidf_doc_ids[i] for i in candidate_indices]\n",
    "\n",
    "    # تشابه TF-IDF\n",
    "    sim_tfidf = cosine_similarity(query_vec_tfidf, candidate_tfidf)[0]\n",
    "\n",
    "    # استرجاع ترتيب FAISS لجميع الوثائق\n",
    "    _, faiss_indices = faiss_index.search(query_vec_bert.reshape(1, -1), len(bert_doc_ids))\n",
    "    faiss_ranks = faiss_indices[0]\n",
    "    bert_idx_to_rank = {idx: rank for rank, idx in enumerate(faiss_ranks)}\n",
    "\n",
    "    # تشابه BERT كـ (1 - ترتيب الوثيقة / العدد الكلي)\n",
    "    sim_bert = []\n",
    "    for doc_id in candidate_doc_ids:\n",
    "        bert_idx = bert_id_to_index.get(doc_id)\n",
    "        if bert_idx is not None:\n",
    "            rank = bert_idx_to_rank.get(bert_idx, len(bert_doc_ids))\n",
    "            sim = 1 - (rank / len(bert_doc_ids))\n",
    "        else:\n",
    "            sim = 0\n",
    "        sim_bert.append(sim)\n",
    "    sim_bert = np.array(sim_bert)\n",
    "\n",
    "    # دمج التمثيلين\n",
    "    scores = ALPHA * sim_tfidf + (1 - ALPHA) * sim_bert\n",
    "    top_indices = np.argsort(scores)[-TOP_K:][::-1]\n",
    "    retrieved = [candidate_doc_ids[i] for i in top_indices]\n",
    "    y_scores = scores[top_indices]\n",
    "\n",
    "    relevant_docs = qrels.get(query_id, set())\n",
    "    y_true = [1 if doc_id in relevant_docs else 0 for doc_id in retrieved]\n",
    "\n",
    "    # MAP\n",
    "    if any(y_true):\n",
    "        with warnings.catch_warnings():\n",
    "            warnings.simplefilter(\"ignore\")\n",
    "            map_scores.append(average_precision_score(y_true, y_scores))\n",
    "    else:\n",
    "        map_scores.append(0)\n",
    "\n",
    "    # MRR\n",
    "    for rank, rel in enumerate(y_true, 1):\n",
    "        if rel:\n",
    "            mrr_scores.append(1 / rank)\n",
    "            break\n",
    "    else:\n",
    "        mrr_scores.append(0)\n",
    "\n",
    "    # Recall@K\n",
    "    recall = sum(y_true) / len(relevant_docs) if relevant_docs else 0\n",
    "    recall_scores.append(recall)\n",
    "\n",
    "    # Precision@K\n",
    "    precision = sum(y_true) / len(y_true) if y_true else 0\n",
    "    precision_scores.append(precision)"
   ]
  },
  {
   "cell_type": "code",
   "execution_count": 65,
   "id": "271ec4a7",
   "metadata": {},
   "outputs": [],
   "source": [
    "end_time = time.perf_counter()\n",
    "elapsed = round(end_time - start_time, 2)"
   ]
  },
  {
   "cell_type": "code",
   "execution_count": 66,
   "id": "b5a045e8",
   "metadata": {},
   "outputs": [],
   "source": [
    "# --- النتائج ---\n",
    "results = {\n",
    "    \"Precision@10\": round(np.mean(precision_scores), 4),\n",
    "    \"Recall\": round(np.mean(recall_scores), 4),\n",
    "    \"MAP\": round(np.mean(map_scores), 4),\n",
    "    \"MRR\": round(np.mean(mrr_scores), 4),\n",
    "    \"Execution Time (seconds)\": elapsed,\n",
    "    \"Queries Evaluated\": len(precision_scores)\n",
    "}"
   ]
  },
  {
   "cell_type": "code",
   "execution_count": 67,
   "id": "8fc71f36",
   "metadata": {},
   "outputs": [
    {
     "data": {
      "text/html": [
       "<div>\n",
       "<style scoped>\n",
       "    .dataframe tbody tr th:only-of-type {\n",
       "        vertical-align: middle;\n",
       "    }\n",
       "\n",
       "    .dataframe tbody tr th {\n",
       "        vertical-align: top;\n",
       "    }\n",
       "\n",
       "    .dataframe thead th {\n",
       "        text-align: right;\n",
       "    }\n",
       "</style>\n",
       "<table border=\"1\" class=\"dataframe\">\n",
       "  <thead>\n",
       "    <tr style=\"text-align: right;\">\n",
       "      <th></th>\n",
       "      <th>Precision@10</th>\n",
       "      <th>Recall</th>\n",
       "      <th>MAP</th>\n",
       "      <th>MRR</th>\n",
       "      <th>Execution Time (seconds)</th>\n",
       "      <th>Queries Evaluated</th>\n",
       "    </tr>\n",
       "  </thead>\n",
       "  <tbody>\n",
       "    <tr>\n",
       "      <th>0</th>\n",
       "      <td>0.2571</td>\n",
       "      <td>0.0568</td>\n",
       "      <td>0.4462</td>\n",
       "      <td>0.5223</td>\n",
       "      <td>62.16</td>\n",
       "      <td>49</td>\n",
       "    </tr>\n",
       "  </tbody>\n",
       "</table>\n",
       "</div>"
      ],
      "text/plain": [
       "   Precision@10  Recall     MAP     MRR  Execution Time (seconds)  \\\n",
       "0        0.2571  0.0568  0.4462  0.5223                     62.16   \n",
       "\n",
       "   Queries Evaluated  \n",
       "0                 49  "
      ]
     },
     "execution_count": 67,
     "metadata": {},
     "output_type": "execute_result"
    }
   ],
   "source": [
    "pd.DataFrame([results])"
   ]
  },
  {
   "cell_type": "markdown",
   "id": "26eee484",
   "metadata": {},
   "source": [
    "حفظ النتيجة"
   ]
  },
  {
   "cell_type": "code",
   "execution_count": 71,
   "id": "061a1658",
   "metadata": {},
   "outputs": [],
   "source": [
    "# --- حفظ النتائج ---\n",
    "with open(f\"hybrid_vevtor_results_evaluation_{GROUP}.json\", \"w\", encoding=\"utf-8\") as f:\n",
    "    json.dump(results, f, indent=4, ensure_ascii=False)"
   ]
  }
 ],
 "metadata": {
  "jupytext": {
   "cell_metadata_filter": "-all",
   "main_language": "python",
   "notebook_metadata_filter": "-all"
  },
  "kernelspec": {
   "display_name": "Python 3.11",
   "language": "python",
   "name": "python311"
  },
  "language_info": {
   "codemirror_mode": {
    "name": "ipython",
    "version": 3
   },
   "file_extension": ".py",
   "mimetype": "text/x-python",
   "name": "python",
   "nbconvert_exporter": "python",
   "pygments_lexer": "ipython3",
   "version": "3.11.2"
  }
 },
 "nbformat": 4,
 "nbformat_minor": 5
}
