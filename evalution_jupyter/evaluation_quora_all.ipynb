{
 "cells": [
  {
   "cell_type": "code",
   "execution_count": 44,
   "id": "3bba8463",
   "metadata": {},
   "outputs": [],
   "source": [
    "import pandas as pd"
   ]
  },
  {
   "cell_type": "code",
   "execution_count": 45,
   "id": "17a63f52",
   "metadata": {},
   "outputs": [],
   "source": [
    "# تحميل كل ملف تقييم مع تحديد نوع التمثيل\n",
    "tfidf = pd.read_json(\"tfidf_evaluation_results.json\", typ='series').to_frame().T\n",
    "tfidf[\"Representation\"] = \"TF-IDF\""
   ]
  },
  {
   "cell_type": "code",
   "execution_count": 46,
   "id": "d1c6ed6a",
   "metadata": {},
   "outputs": [],
   "source": [
    "bert = pd.read_json(\"bert_evaluation_results.json\", typ='series').to_frame().T\n",
    "bert[\"Representation\"] = \"BERT\""
   ]
  },
  {
   "cell_type": "code",
   "execution_count": 47,
   "id": "4c0f2603",
   "metadata": {},
   "outputs": [],
   "source": [
    "faiss = pd.read_json(\"faiss_bert_evaluation_quora.json\", typ='series').to_frame().T\n",
    "faiss[\"Representation\"] = \"FAISS-BERT\""
   ]
  },
  {
   "cell_type": "code",
   "execution_count": 48,
   "id": "9d3b679d",
   "metadata": {},
   "outputs": [],
   "source": [
    "hybrid = pd.read_json(\"hybrid_evaluation_results.json\", typ='series').to_frame().T\n",
    "hybrid[\"Representation\"] = \"Hybrid (TF-IDF + BERT)\""
   ]
  },
  {
   "cell_type": "code",
   "execution_count": 49,
   "id": "bbc037d6",
   "metadata": {},
   "outputs": [],
   "source": [
    "bm25 = pd.read_json(\"bm25_evaluation_results.json\", typ='series').to_frame().T\n",
    "bm25[\"Representation\"] = \"bm25\""
   ]
  },
  {
   "cell_type": "code",
   "execution_count": 50,
   "id": "8cd96fda",
   "metadata": {},
   "outputs": [],
   "source": [
    "# دمج كل النتائج في جدول واحد\n",
    "all_results = pd.concat([tfidf, bert, faiss, hybrid ,bm25], ignore_index=True)"
   ]
  },
  {
   "cell_type": "code",
   "execution_count": 51,
   "id": "1fa14a9a",
   "metadata": {},
   "outputs": [],
   "source": [
    "# إعادة ترتيب الأعمدة لجعل اسم التمثيل أول عمود\n",
    "cols = [\"Representation\"] + [col for col in all_results.columns if col != \"Representation\"]\n",
    "all_results = all_results[cols]"
   ]
  },
  {
   "cell_type": "code",
   "execution_count": 52,
   "id": "733dcaee",
   "metadata": {},
   "outputs": [
    {
     "data": {
      "text/html": [
       "<div>\n",
       "<style scoped>\n",
       "    .dataframe tbody tr th:only-of-type {\n",
       "        vertical-align: middle;\n",
       "    }\n",
       "\n",
       "    .dataframe tbody tr th {\n",
       "        vertical-align: top;\n",
       "    }\n",
       "\n",
       "    .dataframe thead th {\n",
       "        text-align: right;\n",
       "    }\n",
       "</style>\n",
       "<table border=\"1\" class=\"dataframe\">\n",
       "  <thead>\n",
       "    <tr style=\"text-align: right;\">\n",
       "      <th></th>\n",
       "      <th>Representation</th>\n",
       "      <th>Precision@10</th>\n",
       "      <th>Recall</th>\n",
       "      <th>MAP</th>\n",
       "      <th>MRR</th>\n",
       "      <th>Execution Time (seconds)</th>\n",
       "      <th>Queries Evaluated</th>\n",
       "    </tr>\n",
       "  </thead>\n",
       "  <tbody>\n",
       "    <tr>\n",
       "      <th>0</th>\n",
       "      <td>TF-IDF</td>\n",
       "      <td>0.1129</td>\n",
       "      <td>0.8427</td>\n",
       "      <td>0.6916</td>\n",
       "      <td>0.7324</td>\n",
       "      <td>206.84</td>\n",
       "      <td>4999.0</td>\n",
       "    </tr>\n",
       "    <tr>\n",
       "      <th>1</th>\n",
       "      <td>BERT</td>\n",
       "      <td>0.1168</td>\n",
       "      <td>0.8647</td>\n",
       "      <td>0.7160</td>\n",
       "      <td>0.7555</td>\n",
       "      <td>811.79</td>\n",
       "      <td>4999.0</td>\n",
       "    </tr>\n",
       "    <tr>\n",
       "      <th>2</th>\n",
       "      <td>FAISS-BERT</td>\n",
       "      <td>0.1163</td>\n",
       "      <td>0.8594</td>\n",
       "      <td>0.7398</td>\n",
       "      <td>0.7539</td>\n",
       "      <td>427.02</td>\n",
       "      <td>4999.0</td>\n",
       "    </tr>\n",
       "    <tr>\n",
       "      <th>3</th>\n",
       "      <td>Hybrid (TF-IDF + BERT)</td>\n",
       "      <td>0.1188</td>\n",
       "      <td>0.8793</td>\n",
       "      <td>0.7314</td>\n",
       "      <td>0.7699</td>\n",
       "      <td>763.42</td>\n",
       "      <td>4999.0</td>\n",
       "    </tr>\n",
       "    <tr>\n",
       "      <th>4</th>\n",
       "      <td>bm25</td>\n",
       "      <td>0.1172</td>\n",
       "      <td>0.8720</td>\n",
       "      <td>0.7079</td>\n",
       "      <td>0.7619</td>\n",
       "      <td>40206.11</td>\n",
       "      <td>4999.0</td>\n",
       "    </tr>\n",
       "  </tbody>\n",
       "</table>\n",
       "</div>"
      ],
      "text/plain": [
       "           Representation  Precision@10  Recall     MAP     MRR  \\\n",
       "0                  TF-IDF        0.1129  0.8427  0.6916  0.7324   \n",
       "1                    BERT        0.1168  0.8647  0.7160  0.7555   \n",
       "2              FAISS-BERT        0.1163  0.8594  0.7398  0.7539   \n",
       "3  Hybrid (TF-IDF + BERT)        0.1188  0.8793  0.7314  0.7699   \n",
       "4                    bm25        0.1172  0.8720  0.7079  0.7619   \n",
       "\n",
       "   Execution Time (seconds)  Queries Evaluated  \n",
       "0                    206.84             4999.0  \n",
       "1                    811.79             4999.0  \n",
       "2                    427.02             4999.0  \n",
       "3                    763.42             4999.0  \n",
       "4                  40206.11             4999.0  "
      ]
     },
     "metadata": {},
     "output_type": "display_data"
    }
   ],
   "source": [
    "# عرض النتائج في جدول\n",
    "display(all_results)"
   ]
  },
  {
   "cell_type": "code",
   "execution_count": 53,
   "id": "3c3dd149",
   "metadata": {},
   "outputs": [],
   "source": [
    "# حفظ الجدول في ملف\n",
    "all_results.to_csv(\"all_evaluation_results.csv\", index=False)"
   ]
  }
 ],
 "metadata": {
  "jupytext": {
   "cell_metadata_filter": "-all",
   "main_language": "python",
   "notebook_metadata_filter": "-all"
  },
  "kernelspec": {
   "display_name": "Python 3.11",
   "language": "python",
   "name": "python311"
  },
  "language_info": {
   "codemirror_mode": {
    "name": "ipython",
    "version": 3
   },
   "file_extension": ".py",
   "mimetype": "text/x-python",
   "name": "python",
   "nbconvert_exporter": "python",
   "pygments_lexer": "ipython3",
   "version": "3.11.2"
  }
 },
 "nbformat": 4,
 "nbformat_minor": 5
}
