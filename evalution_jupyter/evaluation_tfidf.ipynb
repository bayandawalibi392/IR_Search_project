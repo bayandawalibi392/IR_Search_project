{
 "cells": [
  {
   "cell_type": "markdown",
   "id": "46de6122",
   "metadata": {},
   "source": [
    "import joblib\n",
    "import os\n",
    "import sqlite3\n",
    "import numpy as np\n",
    "import time\n",
    "from sklearn.metrics.pairwise import cosine_similarity\n",
    "from text_preprocessing_service import TextPreprocessingService"
   ]
  },
  {
   "cell_type": "markdown",
   "id": "677fae0e",
   "metadata": {},
   "source": [
    "# إعدادات\n",
    "INDEX_DIR = 'indexes'\n",
    "MODELS_DIR = 'models'\n",
    "SOURCE = \"quora\"\n",
    "TOP_N = 10"
   ]
  },
  {
   "cell_type": "markdown",
   "id": "367fabfe",
   "metadata": {},
   "source": [
    "# تحميل الفهرس المعكوس\n",
    "inverted_index = joblib.load(os.path.join(INDEX_DIR, f\"inverted_index_{SOURCE}.joblib\"))"
   ]
  },
  {
   "cell_type": "markdown",
   "id": "f67d1c19",
   "metadata": {},
   "source": [
    "# تحميل نموذج TF-IDF\n",
    "tfidf_vectorizer = joblib.load(os.path.join(MODELS_DIR, f\"tfidf_{SOURCE}_vectorizer.joblib\"))\n",
    "doc_ids = joblib.load(os.path.join(MODELS_DIR, f\"tfidf_{SOURCE}_doc_ids.joblib\"))\n",
    "doc_matrix = joblib.load(os.path.join(MODELS_DIR, f\"tfidf_{SOURCE}_matrix.joblib\"))\n",
    "doc_id_to_idx = {doc_id: idx for idx, doc_id in enumerate(doc_ids)}"
   ]
  },
  {
   "cell_type": "markdown",
   "id": "4a08b693",
   "metadata": {},
   "source": [
    "# المعالجة النصية\n",
    "preprocessor = TextPreprocessingService()"
   ]
  },
  {
   "cell_type": "markdown",
   "id": "c99bba60",
   "metadata": {},
   "source": [
    "# الاتصال بقاعدة البيانات\n",
    "conn = sqlite3.connect(\"ir_project.db\")\n",
    "cursor = conn.cursor()"
   ]
  },
  {
   "cell_type": "markdown",
   "id": "e52f9ed8",
   "metadata": {},
   "source": [
    "# تحميل الاستعلامات\n",
    "cursor.execute(\"SELECT query_id, query_text FROM queries WHERE source = ?\", (SOURCE,))\n",
    "queries = cursor.fetchall()"
   ]
  },
  {
   "cell_type": "markdown",
   "id": "efa97f65",
   "metadata": {},
   "source": [
    "# تحميل الوثائق ذات الصلة (qrels)\n",
    "cursor.execute(\"SELECT query_id, doc_id FROM qrels WHERE source = ?\", (SOURCE,))\n",
    "relevance_data = cursor.fetchall()"
   ]
  },
  {
   "cell_type": "markdown",
   "id": "f7cf8fa5",
   "metadata": {},
   "source": [
    "# تحويل qrels إلى dict: {query_id: set(doc_ids)}\n",
    "relevant_docs = {}\n",
    "for qid, did in relevance_data:\n",
    "    relevant_docs.setdefault(qid, set()).add(did)"
   ]
  },
  {
   "cell_type": "markdown",
   "id": "298c17d1",
   "metadata": {},
   "source": [
    "# مقاييس التقييم\n",
    "total_precisions = []\n",
    "total_recalls = []\n",
    "average_precisions = []\n",
    "reciprocal_ranks = []"
   ]
  },
  {
   "cell_type": "markdown",
   "id": "4b1effa3",
   "metadata": {},
   "source": [
    "for query_id, query_text in queries:\n",
    "    tokens = preprocessor.preprocess(query_text, return_as_string=False)"
   ]
  },
  {
   "cell_type": "markdown",
   "id": "bafb89ed",
   "metadata": {},
   "source": [
    "    candidate_doc_ids = set()\n",
    "    for term in tokens:\n",
    "        if term in inverted_index:\n",
    "            candidate_doc_ids.update(inverted_index[term])"
   ]
  },
  {
   "cell_type": "markdown",
   "id": "ef2bf2b6",
   "metadata": {},
   "source": [
    "    candidate_indices = [doc_id_to_idx[doc_id] for doc_id in candidate_doc_ids if doc_id in doc_id_to_idx]\n",
    "    if not candidate_indices:\n",
    "        continue"
   ]
  },
  {
   "cell_type": "markdown",
   "id": "8dc54bdc",
   "metadata": {},
   "source": [
    "    query_vec = tfidf_vectorizer.transform([\" \".join(tokens)])\n",
    "    sims = cosine_similarity(query_vec, doc_matrix[candidate_indices])[0]\n",
    "    top_indices = np.argsort(sims)[::-1][:TOP_N]\n",
    "    retrieved_docs = [doc_ids[candidate_indices[i]] for i in top_indices]"
   ]
  },
  {
   "cell_type": "markdown",
   "id": "b5702376",
   "metadata": {},
   "source": [
    "    # وثائق الاستعلام ذات الصلة\n",
    "    rel_docs = relevant_docs.get(query_id, set())\n",
    "    if not rel_docs:\n",
    "        continue"
   ]
  },
  {
   "cell_type": "markdown",
   "id": "04011c6d",
   "metadata": {},
   "source": [
    "    # حساب Precision@10\n",
    "    retrieved_relevant = [doc_id for doc_id in retrieved_docs if doc_id in rel_docs]\n",
    "    precision_at_10 = len(retrieved_relevant) / TOP_N\n",
    "    recall = len(retrieved_relevant) / len(rel_docs)"
   ]
  },
  {
   "cell_type": "markdown",
   "id": "198b2c62",
   "metadata": {},
   "source": [
    "    # MRR\n",
    "    rr = 0\n",
    "    for rank, doc_id in enumerate(retrieved_docs, 1):\n",
    "        if doc_id in rel_docs:\n",
    "            rr = 1 / rank\n",
    "            break"
   ]
  },
  {
   "cell_type": "markdown",
   "id": "3570b690",
   "metadata": {},
   "source": [
    "    # Average Precision\n",
    "    num_rel = 0\n",
    "    sum_precisions = 0\n",
    "    for rank, doc_id in enumerate(retrieved_docs, 1):\n",
    "        if doc_id in rel_docs:\n",
    "            num_rel += 1\n",
    "            sum_precisions += num_rel / rank\n",
    "    ap = sum_precisions / len(rel_docs)"
   ]
  },
  {
   "cell_type": "markdown",
   "id": "9210fdb9",
   "metadata": {},
   "source": [
    "    # تحديث القيم الإجمالية\n",
    "    total_precisions.append(precision_at_10)\n",
    "    total_recalls.append(recall)\n",
    "    reciprocal_ranks.append(rr)\n",
    "    average_precisions.append(ap)"
   ]
  },
  {
   "cell_type": "markdown",
   "id": "a68665e4",
   "metadata": {},
   "source": [
    "# حساب المتوسطات\n",
    "MAP = np.mean(average_precisions)\n",
    "MRR = np.mean(reciprocal_ranks)\n",
    "mean_precision = np.mean(total_precisions)\n",
    "mean_recall = np.mean(total_recalls)"
   ]
  },
  {
   "cell_type": "markdown",
   "id": "5ad3a190",
   "metadata": {},
   "source": [
    "# النتائج النهائية\n",
    "print(\"\\n📊 تقييم النظام:\")\n",
    "print(f\"Precision@10: {mean_precision:.4f}\")\n",
    "print(f\"Recall:        {mean_recall:.4f}\")\n",
    "print(f\"MAP:           {MAP:.4f}\")\n",
    "print(f\"MRR:           {MRR:.4f}\")"
   ]
  },
  {
   "cell_type": "code",
   "execution_count": 1,
   "id": "a6c581b7",
   "metadata": {},
   "outputs": [
    {
     "name": "stderr",
     "output_type": "stream",
     "text": [
      "[nltk_data] Downloading package punkt to\n",
      "[nltk_data]     C:\\Users\\bayan\\AppData\\Roaming\\nltk_data...\n",
      "[nltk_data]   Package punkt is already up-to-date!\n",
      "[nltk_data] Downloading package stopwords to\n",
      "[nltk_data]     C:\\Users\\bayan\\AppData\\Roaming\\nltk_data...\n",
      "[nltk_data]   Package stopwords is already up-to-date!\n"
     ]
    }
   ],
   "source": [
    "# conn.close()\n",
    "import joblib\n",
    "import os\n",
    "import sqlite3\n",
    "import numpy as np\n",
    "import pandas as pd\n",
    "import time\n",
    "from sklearn.metrics.pairwise import cosine_similarity\n",
    "from text_preprocessing_service import TextPreprocessingService\n",
    "import json"
   ]
  },
  {
   "cell_type": "code",
   "execution_count": 2,
   "id": "2986488e",
   "metadata": {},
   "outputs": [],
   "source": [
    "# إعدادات\n",
    "INDEX_DIR = 'indexes'\n",
    "MODELS_DIR = 'models'\n",
    "SOURCE = \"quora\"\n",
    "TOP_N = 10"
   ]
  },
  {
   "cell_type": "code",
   "execution_count": 3,
   "id": "d16e6c32",
   "metadata": {},
   "outputs": [],
   "source": [
    "# تحميل الفهرس المعكوس\n",
    "inverted_index = joblib.load(os.path.join(INDEX_DIR, f\"inverted_index_{SOURCE}.joblib\"))"
   ]
  },
  {
   "cell_type": "code",
   "execution_count": 4,
   "id": "f7153394",
   "metadata": {},
   "outputs": [],
   "source": [
    "# تحميل نموذج TF-IDF\n",
    "tfidf_vectorizer = joblib.load(os.path.join(MODELS_DIR, f\"tfidf_{SOURCE}_vectorizer.joblib\"))\n",
    "doc_ids = joblib.load(os.path.join(MODELS_DIR, f\"tfidf_{SOURCE}_doc_ids.joblib\"))\n",
    "doc_matrix = joblib.load(os.path.join(MODELS_DIR, f\"tfidf_{SOURCE}_matrix.joblib\"))\n",
    "doc_id_to_idx = {doc_id: idx for idx, doc_id in enumerate(doc_ids)}"
   ]
  },
  {
   "cell_type": "code",
   "execution_count": 5,
   "id": "2db04362",
   "metadata": {},
   "outputs": [],
   "source": [
    "# المعالجة النصية\n",
    "preprocessor = TextPreprocessingService()"
   ]
  },
  {
   "cell_type": "code",
   "execution_count": 6,
   "id": "855c11bb",
   "metadata": {},
   "outputs": [],
   "source": [
    "# الاتصال بقاعدة البيانات\n",
    "conn = sqlite3.connect(\"ir_project.db\")\n",
    "cursor = conn.cursor()"
   ]
  },
  {
   "cell_type": "code",
   "execution_count": 7,
   "id": "cf7fd727",
   "metadata": {},
   "outputs": [],
   "source": [
    "# تحميل الاستعلامات\n",
    "cursor.execute(\"SELECT query_id, query_text FROM queries WHERE source = ?\", (SOURCE,))\n",
    "queries = cursor.fetchall()"
   ]
  },
  {
   "cell_type": "code",
   "execution_count": 8,
   "id": "0b782fc8",
   "metadata": {},
   "outputs": [],
   "source": [
    "# تحميل الوثائق ذات الصلة (qrels)\n",
    "cursor.execute(\"SELECT query_id, doc_id FROM qrels WHERE source = ?\", (SOURCE,))\n",
    "relevance_data = cursor.fetchall()"
   ]
  },
  {
   "cell_type": "code",
   "execution_count": 9,
   "id": "11031430",
   "metadata": {},
   "outputs": [],
   "source": [
    "# تحويل qrels إلى dict: {query_id: set(doc_ids)}\n",
    "relevant_docs = {}\n",
    "for qid, did in relevance_data:\n",
    "    relevant_docs.setdefault(qid, set()).add(did)"
   ]
  },
  {
   "cell_type": "code",
   "execution_count": 10,
   "id": "f8e97778",
   "metadata": {},
   "outputs": [],
   "source": [
    "# مقاييس التقييم\n",
    "total_precisions = []\n",
    "total_recalls = []\n",
    "average_precisions = []\n",
    "reciprocal_ranks = []"
   ]
  },
  {
   "cell_type": "code",
   "execution_count": 11,
   "id": "e0a3054a",
   "metadata": {},
   "outputs": [],
   "source": [
    "start_time = time.perf_counter()"
   ]
  },
  {
   "cell_type": "code",
   "execution_count": 12,
   "id": "ff31a8dd",
   "metadata": {},
   "outputs": [],
   "source": [
    "for query_id, query_text in queries:\n",
    "    tokens = preprocessor.preprocess(query_text, return_as_string=False)\n",
    "\n",
    "    candidate_doc_ids = set()\n",
    "    for term in tokens:\n",
    "        if term in inverted_index:\n",
    "            candidate_doc_ids.update(inverted_index[term])\n",
    "\n",
    "    candidate_indices = [doc_id_to_idx[doc_id] for doc_id in candidate_doc_ids if doc_id in doc_id_to_idx]\n",
    "    if not candidate_indices:\n",
    "        continue\n",
    "\n",
    "    query_vec = tfidf_vectorizer.transform([\" \".join(tokens)])\n",
    "    sims = cosine_similarity(query_vec, doc_matrix[candidate_indices])[0]\n",
    "    top_indices = np.argsort(sims)[::-1][:TOP_N]\n",
    "    retrieved_docs = [doc_ids[candidate_indices[i]] for i in top_indices]\n",
    "\n",
    "    # وثائق الاستعلام ذات الصلة\n",
    "    rel_docs = relevant_docs.get(query_id, set())\n",
    "    if not rel_docs:\n",
    "        continue\n",
    "\n",
    "    # حساب Precision@10\n",
    "    retrieved_relevant = [doc_id for doc_id in retrieved_docs if doc_id in rel_docs]\n",
    "    precision_at_10 = len(retrieved_relevant) / TOP_N\n",
    "    recall = len(retrieved_relevant) / len(rel_docs)\n",
    "\n",
    "    # MRR\n",
    "    rr = 0\n",
    "    for rank, doc_id in enumerate(retrieved_docs, 1):\n",
    "        if doc_id in rel_docs:\n",
    "            rr = 1 / rank\n",
    "            break\n",
    "\n",
    "    # Average Precision\n",
    "    num_rel = 0\n",
    "    sum_precisions = 0\n",
    "    for rank, doc_id in enumerate(retrieved_docs, 1):\n",
    "        if doc_id in rel_docs:\n",
    "            num_rel += 1\n",
    "            sum_precisions += num_rel / rank\n",
    "    ap = sum_precisions / len(rel_docs)\n",
    "\n",
    "    # تحديث القيم الإجمالية\n",
    "    total_precisions.append(precision_at_10)\n",
    "    total_recalls.append(recall)\n",
    "    reciprocal_ranks.append(rr)\n",
    "    average_precisions.append(ap)"
   ]
  },
  {
   "cell_type": "code",
   "execution_count": 13,
   "id": "613824a3",
   "metadata": {},
   "outputs": [],
   "source": [
    "end_time = time.perf_counter()\n",
    "elapsed = end_time - start_time"
   ]
  },
  {
   "cell_type": "code",
   "execution_count": 14,
   "id": "d275e45a",
   "metadata": {},
   "outputs": [],
   "source": [
    "# حساب المتوسطات\n",
    "MAP = np.mean(average_precisions)\n",
    "MRR = np.mean(reciprocal_ranks)\n",
    "mean_precision = np.mean(total_precisions)\n",
    "mean_recall = np.mean(total_recalls)"
   ]
  },
  {
   "cell_type": "code",
   "execution_count": 15,
   "id": "2689cfa3",
   "metadata": {},
   "outputs": [],
   "source": [
    "# إعداد النتائج في dict\n",
    "results = {\n",
    "    \"Precision@10\": round(mean_precision, 4),\n",
    "    \"Recall\": round(mean_recall, 4),\n",
    "    \"MAP\": round(MAP, 4),\n",
    "    \"MRR\": round(MRR, 4),\n",
    "    \"Execution Time (seconds)\": round(elapsed, 2),\n",
    "    \"Queries Evaluated\": len(total_precisions)\n",
    "}"
   ]
  },
  {
   "cell_type": "code",
   "execution_count": 20,
   "id": "8b4714c5",
   "metadata": {},
   "outputs": [
    {
     "data": {
      "text/html": [
       "<div>\n",
       "<style scoped>\n",
       "    .dataframe tbody tr th:only-of-type {\n",
       "        vertical-align: middle;\n",
       "    }\n",
       "\n",
       "    .dataframe tbody tr th {\n",
       "        vertical-align: top;\n",
       "    }\n",
       "\n",
       "    .dataframe thead th {\n",
       "        text-align: right;\n",
       "    }\n",
       "</style>\n",
       "<table border=\"1\" class=\"dataframe\">\n",
       "  <thead>\n",
       "    <tr style=\"text-align: right;\">\n",
       "      <th></th>\n",
       "      <th>Precision@10</th>\n",
       "      <th>Recall</th>\n",
       "      <th>MAP</th>\n",
       "      <th>MRR</th>\n",
       "      <th>Execution Time (seconds)</th>\n",
       "      <th>Queries Evaluated</th>\n",
       "    </tr>\n",
       "  </thead>\n",
       "  <tbody>\n",
       "    <tr>\n",
       "      <th>0</th>\n",
       "      <td>0.1129</td>\n",
       "      <td>0.8427</td>\n",
       "      <td>0.6904</td>\n",
       "      <td>0.7307</td>\n",
       "      <td>163.67</td>\n",
       "      <td>4999</td>\n",
       "    </tr>\n",
       "  </tbody>\n",
       "</table>\n",
       "</div>"
      ],
      "text/plain": [
       "   Precision@10  Recall     MAP     MRR  Execution Time (seconds)  \\\n",
       "0        0.1129  0.8427  0.6904  0.7307                    163.67   \n",
       "\n",
       "   Queries Evaluated  \n",
       "0               4999  "
      ]
     },
     "execution_count": 20,
     "metadata": {},
     "output_type": "execute_result"
    }
   ],
   "source": [
    "pd.DataFrame([results])"
   ]
  },
  {
   "cell_type": "code",
   "execution_count": 21,
   "id": "4105df9c",
   "metadata": {},
   "outputs": [],
   "source": [
    "# حفظ النتائج كـ JSON\n",
    "with open(\"tfidf_evaluation_results.json\", \"w\", encoding=\"utf-8\") as f:\n",
    "    json.dump(results, f, indent=4, ensure_ascii=False)"
   ]
  },
  {
   "cell_type": "code",
   "execution_count": 19,
   "id": "0cf161b7",
   "metadata": {},
   "outputs": [],
   "source": [
    "conn.close()"
   ]
  }
 ],
 "metadata": {
  "jupytext": {
   "cell_metadata_filter": "-all",
   "main_language": "python",
   "notebook_metadata_filter": "-all"
  },
  "kernelspec": {
   "display_name": "Python 3.11",
   "language": "python",
   "name": "python311"
  },
  "language_info": {
   "codemirror_mode": {
    "name": "ipython",
    "version": 3
   },
   "file_extension": ".py",
   "mimetype": "text/x-python",
   "name": "python",
   "nbconvert_exporter": "python",
   "pygments_lexer": "ipython3",
   "version": "3.11.2"
  }
 },
 "nbformat": 4,
 "nbformat_minor": 5
}
