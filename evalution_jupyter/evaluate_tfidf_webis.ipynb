{
 "cells": [
  {
   "cell_type": "markdown",
   "id": "f3840ff3",
   "metadata": {},
   "source": [
    "import sqlite3\n",
    "import joblib\n",
    "import numpy as np\n",
    "import time\n",
    "from sklearn.metrics import average_precision_score\n",
    "from sklearn.metrics import precision_score\n",
    "from sklearn.metrics import pairwise\n",
    "from TextPreprocessor import TextPreprocessor  # تأكد أن هذا يحمل نفس نوع المعالجة الذي استخدمته\n",
    "import warnings"
   ]
  },
  {
   "cell_type": "markdown",
   "id": "d9baf6cd",
   "metadata": {},
   "source": [
    "# إعدادات\n",
    "DB_PATH = 'ir_project.db'\n",
    "MODEL_DIR = 'models'\n",
    "INDEX_DIR = 'indexes'\n",
    "GROUP = 'webis'\n",
    "TOP_K = 10"
   ]
  },
  {
   "cell_type": "markdown",
   "id": "c787a08a",
   "metadata": {},
   "source": [
    "# تحميل النماذج والفهارس\n",
    "print(\"📦 تحميل النماذج والبيانات...\")\n",
    "inverted_index = joblib.load(f\"{INDEX_DIR}/inverted_index1_{GROUP}.joblib\")\n",
    "tfidf_vectorizer = joblib.load(f\"{MODEL_DIR}/tfidf_vectorizer_{GROUP}.joblib\")\n",
    "tfidf_matrix = joblib.load(f\"{MODEL_DIR}/tfidf_vectors_{GROUP}.joblib\")\n",
    "doc_ids = joblib.load(f\"{MODEL_DIR}/doc_ids_{GROUP}.joblib\")"
   ]
  },
  {
   "cell_type": "markdown",
   "id": "84ad8d52",
   "metadata": {},
   "source": [
    "# الاتصال بقاعدة البيانات\n",
    "conn = sqlite3.connect(DB_PATH)\n",
    "cursor = conn.cursor()"
   ]
  },
  {
   "cell_type": "markdown",
   "id": "32d85ee0",
   "metadata": {},
   "source": [
    "# تحميل الاستعلامات والعلاقات\n",
    "cursor.execute(\"SELECT query_id, query_text FROM queries WHERE source = ?\", (GROUP,))\n",
    "queries = cursor.fetchall()\n",
    "query_dict = {q_id: text for q_id, text in queries}"
   ]
  },
  {
   "cell_type": "markdown",
   "id": "00954d20",
   "metadata": {},
   "source": [
    "cursor.execute(\"SELECT query_id, doc_id FROM qrels WHERE source = ?\", (GROUP,))\n",
    "qrel_rows = cursor.fetchall()\n",
    "qrels = {}\n",
    "for q_id, doc_id in qrel_rows:\n",
    "    qrels.setdefault(q_id, set()).add(doc_id)"
   ]
  },
  {
   "cell_type": "markdown",
   "id": "539404e1",
   "metadata": {},
   "source": [
    "# المعالجة\n",
    "pre = TextPreprocessor()"
   ]
  },
  {
   "cell_type": "markdown",
   "id": "3df0efd4",
   "metadata": {},
   "source": [
    "# التقييم\n",
    "map_scores = []\n",
    "mrr_scores = []\n",
    "recall_scores = []\n",
    "precision_scores = []"
   ]
  },
  {
   "cell_type": "markdown",
   "id": "57ba11ff",
   "metadata": {},
   "source": [
    "start_time = time.perf_counter()"
   ]
  },
  {
   "cell_type": "markdown",
   "id": "568bbe82",
   "metadata": {},
   "source": [
    "for query_id, query_text in query_dict.items():\n",
    "    content = pre.preprocess(query_text, use_stemming=True, use_lemmatization=False)\n",
    "    if not content:\n",
    "        continue"
   ]
  },
  {
   "cell_type": "markdown",
   "id": "b75ffa83",
   "metadata": {},
   "source": [
    "    candidate_indices = set()\n",
    "    for token in content:\n",
    "        if token in inverted_index:\n",
    "            candidate_indices.update(inverted_index[token])\n",
    "    if not candidate_indices:\n",
    "        continue"
   ]
  },
  {
   "cell_type": "markdown",
   "id": "d4601714",
   "metadata": {},
   "source": [
    "    candidate_indices = sorted(candidate_indices)\n",
    "    candidate_vectors = tfidf_matrix[candidate_indices]\n",
    "    query_str = pre.clean_text(' '.join(content))  # نفس دالة preprocessor التي استُخدمت في التدريب\n",
    "    query_vec = tfidf_vectorizer.transform([query_str])"
   ]
  },
  {
   "cell_type": "markdown",
   "id": "9ed8f31d",
   "metadata": {},
   "source": [
    "    scores = pairwise.cosine_similarity(query_vec, candidate_vectors)[0]"
   ]
  },
  {
   "cell_type": "markdown",
   "id": "bf587c75",
   "metadata": {},
   "source": [
    "    top_indices_local = np.argsort(scores)[-TOP_K:][::-1]\n",
    "    top_indices_global = [candidate_indices[i] for i in top_indices_local]\n",
    "    retrieved = [doc_ids[i] for i in top_indices_global]"
   ]
  },
  {
   "cell_type": "markdown",
   "id": "fce18733",
   "metadata": {},
   "source": [
    "    relevant_docs = qrels.get(query_id, set())\n",
    "    y_true = [1 if doc_id in relevant_docs else 0 for doc_id in retrieved]\n",
    "    y_scores = scores[top_indices_local]"
   ]
  },
  {
   "cell_type": "markdown",
   "id": "7f114565",
   "metadata": {},
   "source": [
    "    # MAP\n",
    "    if any(y_true):\n",
    "        with warnings.catch_warnings():\n",
    "            warnings.simplefilter(\"ignore\")\n",
    "            map_scores.append(average_precision_score(y_true, y_scores))\n",
    "    else:\n",
    "        map_scores.append(0)"
   ]
  },
  {
   "cell_type": "markdown",
   "id": "9f08a870",
   "metadata": {},
   "source": [
    "    # MRR\n",
    "    for rank, rel in enumerate(y_true, 1):\n",
    "        if rel:\n",
    "            mrr_scores.append(1 / rank)\n",
    "            break\n",
    "    else:\n",
    "        mrr_scores.append(0)"
   ]
  },
  {
   "cell_type": "markdown",
   "id": "3f34b1a5",
   "metadata": {},
   "source": [
    "    # Recall@K\n",
    "    recall = sum(y_true) / len(relevant_docs) if relevant_docs else 0\n",
    "    recall_scores.append(recall)"
   ]
  },
  {
   "cell_type": "markdown",
   "id": "67ea92e2",
   "metadata": {},
   "source": [
    "    # Precision@K\n",
    "    precision = sum(y_true) / len(y_true) if y_true else 0\n",
    "    precision_scores.append(precision)"
   ]
  },
  {
   "cell_type": "markdown",
   "id": "27da08f1",
   "metadata": {},
   "source": [
    "end_time = time.perf_counter()\n",
    "elapsed = end_time - start_time"
   ]
  },
  {
   "cell_type": "code",
   "execution_count": 16,
   "id": "39da56ae",
   "metadata": {},
   "outputs": [],
   "source": [
    "# # عرض النتائج\n",
    "# print(\"\\n✅ التقييم مكتمل!\")\n",
    "# print(f\"📊 MAP (60% التركيز): {np.mean(map_scores):.4f}\")\n",
    "# print(f\"📊 MRR: {np.mean(mrr_scores):.4f}\")\n",
    "# print(f\"📊 Recall@{TOP_K}: {np.mean(recall_scores):.4f}\")\n",
    "# print(f\"📊 Precision@{TOP_K}: {np.mean(precision_scores):.4f}\")\n",
    "# print(f\"🕒 زمن التنفيذ الكلي: {elapsed:.2f} ثانية\")\n",
    "import sqlite3\n",
    "import joblib\n",
    "import numpy as np\n",
    "import time\n",
    "import warnings\n",
    "import json\n",
    "import pandas as pd\n",
    "from sklearn.metrics import average_precision_score, pairwise\n",
    "from TextPreprocessor import TextPreprocessor  # تأكد أن المسار صحيح داخل Jupyter\n",
    "from pprint import pprint"
   ]
  },
  {
   "cell_type": "code",
   "execution_count": null,
   "id": "87992deb",
   "metadata": {},
   "outputs": [],
   "source": []
  },
  {
   "cell_type": "code",
   "execution_count": 17,
   "id": "a7c559f2",
   "metadata": {},
   "outputs": [],
   "source": [
    "# إعدادات\n",
    "DB_PATH = 'ir_project.db'\n",
    "MODEL_DIR = 'models'\n",
    "INDEX_DIR = 'indexes'\n",
    "GROUP = 'webis'\n",
    "TOP_K = 10"
   ]
  },
  {
   "cell_type": "code",
   "execution_count": 18,
   "id": "1639eef9",
   "metadata": {},
   "outputs": [
    {
     "name": "stdout",
     "output_type": "stream",
     "text": [
      "📦 تحميل النماذج والبيانات...\n"
     ]
    }
   ],
   "source": [
    "# تحميل النماذج والفهارس\n",
    "print(\"📦 تحميل النماذج والبيانات...\")\n",
    "inverted_index = joblib.load(f\"{INDEX_DIR}/inverted_index1_{GROUP}.joblib\")\n",
    "tfidf_vectorizer = joblib.load(f\"{MODEL_DIR}/tfidf_vectorizer_{GROUP}.joblib\")\n",
    "tfidf_matrix = joblib.load(f\"{MODEL_DIR}/tfidf_vectors_{GROUP}.joblib\")\n",
    "doc_ids = joblib.load(f\"{MODEL_DIR}/doc_ids_{GROUP}.joblib\")"
   ]
  },
  {
   "cell_type": "code",
   "execution_count": 19,
   "id": "e2eacf4a",
   "metadata": {},
   "outputs": [],
   "source": [
    "# الاتصال بقاعدة البيانات\n",
    "conn = sqlite3.connect(DB_PATH)\n",
    "cursor = conn.cursor()"
   ]
  },
  {
   "cell_type": "code",
   "execution_count": 20,
   "id": "36484781",
   "metadata": {},
   "outputs": [],
   "source": [
    "# تحميل الاستعلامات والعلاقات\n",
    "cursor.execute(\"SELECT query_id, query_text FROM queries WHERE source = ?\", (GROUP,))\n",
    "queries = cursor.fetchall()\n",
    "query_dict = {q_id: text for q_id, text in queries}"
   ]
  },
  {
   "cell_type": "code",
   "execution_count": 21,
   "id": "5890db8d",
   "metadata": {},
   "outputs": [],
   "source": [
    "cursor.execute(\"SELECT query_id, doc_id FROM qrels WHERE source = ?\", (GROUP,))\n",
    "qrel_rows = cursor.fetchall()\n",
    "qrels = {}\n",
    "for q_id, doc_id in qrel_rows:\n",
    "    qrels.setdefault(q_id, set()).add(doc_id)"
   ]
  },
  {
   "cell_type": "code",
   "execution_count": 22,
   "id": "16253fed",
   "metadata": {},
   "outputs": [],
   "source": [
    "# المعالجة\n",
    "pre = TextPreprocessor()"
   ]
  },
  {
   "cell_type": "code",
   "execution_count": 23,
   "id": "19bc6fc8",
   "metadata": {},
   "outputs": [],
   "source": [
    "# التقييم\n",
    "map_scores = []\n",
    "mrr_scores = []\n",
    "recall_scores = []\n",
    "precision_scores = []"
   ]
  },
  {
   "cell_type": "code",
   "execution_count": 24,
   "id": "2e6ae774",
   "metadata": {},
   "outputs": [],
   "source": [
    "start_time = time.perf_counter()"
   ]
  },
  {
   "cell_type": "code",
   "execution_count": 25,
   "id": "6444fa68",
   "metadata": {},
   "outputs": [],
   "source": [
    "for query_id, query_text in query_dict.items():\n",
    "    content = pre.preprocess(query_text, use_stemming=True, use_lemmatization=False)\n",
    "    if not content:\n",
    "        continue\n",
    "\n",
    "    candidate_indices = set()\n",
    "    for token in content:\n",
    "        if token in inverted_index:\n",
    "            candidate_indices.update(inverted_index[token])\n",
    "    if not candidate_indices:\n",
    "        continue\n",
    "\n",
    "    candidate_indices = sorted(candidate_indices)\n",
    "    candidate_vectors = tfidf_matrix[candidate_indices]\n",
    "    query_str = pre.clean_text(' '.join(content))\n",
    "    query_vec = tfidf_vectorizer.transform([query_str])\n",
    "    scores = pairwise.cosine_similarity(query_vec, candidate_vectors)[0]\n",
    "\n",
    "    top_indices_local = np.argsort(scores)[-TOP_K:][::-1]\n",
    "    top_indices_global = [candidate_indices[i] for i in top_indices_local]\n",
    "    retrieved = [doc_ids[i] for i in top_indices_global]\n",
    "\n",
    "    relevant_docs = qrels.get(query_id, set())\n",
    "    y_true = [1 if doc_id in relevant_docs else 0 for doc_id in retrieved]\n",
    "    y_scores = scores[top_indices_local]\n",
    "\n",
    "    # MAP\n",
    "    if any(y_true):\n",
    "        with warnings.catch_warnings():\n",
    "            warnings.simplefilter(\"ignore\")\n",
    "            map_scores.append(average_precision_score(y_true, y_scores))\n",
    "    else:\n",
    "        map_scores.append(0)\n",
    "\n",
    "    # MRR\n",
    "    for rank, rel in enumerate(y_true, 1):\n",
    "        if rel:\n",
    "            mrr_scores.append(1 / rank)\n",
    "            break\n",
    "    else:\n",
    "        mrr_scores.append(0)\n",
    "\n",
    "    # Recall@K\n",
    "    recall = sum(y_true) / len(relevant_docs) if relevant_docs else 0\n",
    "    recall_scores.append(recall)\n",
    "\n",
    "    # Precision@K\n",
    "    precision = sum(y_true) / len(y_true) if y_true else 0\n",
    "    precision_scores.append(precision)"
   ]
  },
  {
   "cell_type": "code",
   "execution_count": 26,
   "id": "e16bdd7d",
   "metadata": {},
   "outputs": [],
   "source": [
    "end_time = time.perf_counter()\n",
    "elapsed = end_time - start_time"
   ]
  },
  {
   "cell_type": "code",
   "execution_count": 27,
   "id": "799ab999",
   "metadata": {},
   "outputs": [],
   "source": [
    "results = {\n",
    "    \"MAP\": round(np.mean(map_scores), 4),\n",
    "    \"MRR\": round(np.mean(mrr_scores), 4),\n",
    "    f\"Recall@{TOP_K}\": round(np.mean(recall_scores), 4),\n",
    "    f\"Precision@{TOP_K}\": round(np.mean(precision_scores), 4),\n",
    "    \"Execution Time (s)\": round(elapsed, 2),\n",
    "    \"Queries Evaluated\": len(map_scores)\n",
    "}\n",
    "\n"
   ]
  },
  {
   "cell_type": "code",
   "execution_count": 28,
   "id": "40e2e50e",
   "metadata": {},
   "outputs": [
    {
     "data": {
      "text/html": [
       "<div>\n",
       "<style scoped>\n",
       "    .dataframe tbody tr th:only-of-type {\n",
       "        vertical-align: middle;\n",
       "    }\n",
       "\n",
       "    .dataframe tbody tr th {\n",
       "        vertical-align: top;\n",
       "    }\n",
       "\n",
       "    .dataframe thead th {\n",
       "        text-align: right;\n",
       "    }\n",
       "</style>\n",
       "<table border=\"1\" class=\"dataframe\">\n",
       "  <thead>\n",
       "    <tr style=\"text-align: right;\">\n",
       "      <th></th>\n",
       "      <th>MAP</th>\n",
       "      <th>MRR</th>\n",
       "      <th>Recall@10</th>\n",
       "      <th>Precision@10</th>\n",
       "      <th>Execution Time (s)</th>\n",
       "      <th>Queries Evaluated</th>\n",
       "    </tr>\n",
       "  </thead>\n",
       "  <tbody>\n",
       "    <tr>\n",
       "      <th>0</th>\n",
       "      <td>0.4268</td>\n",
       "      <td>0.5028</td>\n",
       "      <td>0.0546</td>\n",
       "      <td>0.2469</td>\n",
       "      <td>28.93</td>\n",
       "      <td>49</td>\n",
       "    </tr>\n",
       "  </tbody>\n",
       "</table>\n",
       "</div>"
      ],
      "text/plain": [
       "      MAP     MRR  Recall@10  Precision@10  Execution Time (s)  \\\n",
       "0  0.4268  0.5028     0.0546        0.2469               28.93   \n",
       "\n",
       "   Queries Evaluated  \n",
       "0                 49  "
      ]
     },
     "execution_count": 28,
     "metadata": {},
     "output_type": "execute_result"
    }
   ],
   "source": [
    "# حفظ النتائج كـ JSON\n",
    "with open(\"tfidf_evaluation_results_webis.json\", \"w\", encoding=\"utf-8\") as f:\n",
    "    json.dump(results, f, indent=4, ensure_ascii=False)\n",
    "\n",
    "# حفظ النتائج كـ CSV\n",
    "# pd.DataFrame([results]).to_csv(\"tfidf_evaluation_results.csv\", index=False)\n",
    "\n",
    "# عرض النتائج على شكل جدول\n",
    "pd.DataFrame([results])\n"
   ]
  },
  {
   "cell_type": "code",
   "execution_count": 29,
   "id": "7731de5c",
   "metadata": {},
   "outputs": [],
   "source": [
    "# حفظ النتائج كـ JSON\n",
    "with open(\"tfidf_evaluation_results_webis.json\", \"w\", encoding=\"utf-8\") as f:\n",
    "    json.dump(results, f, indent=4, ensure_ascii=False)"
   ]
  }
 ],
 "metadata": {
  "jupytext": {
   "cell_metadata_filter": "-all",
   "main_language": "python",
   "notebook_metadata_filter": "-all"
  },
  "kernelspec": {
   "display_name": "Python 3.11",
   "language": "python",
   "name": "python311"
  },
  "language_info": {
   "codemirror_mode": {
    "name": "ipython",
    "version": 3
   },
   "file_extension": ".py",
   "mimetype": "text/x-python",
   "name": "python",
   "nbconvert_exporter": "python",
   "pygments_lexer": "ipython3",
   "version": "3.11.2"
  }
 },
 "nbformat": 4,
 "nbformat_minor": 5
}
