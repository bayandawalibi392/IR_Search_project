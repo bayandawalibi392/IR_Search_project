{
 "cells": [
  {
   "cell_type": "markdown",
   "id": "7084998b",
   "metadata": {},
   "source": [
    "import sqlite3\n",
    "import joblib\n",
    "import numpy as np\n",
    "import time\n",
    "import faiss\n",
    "from sklearn.metrics import average_precision_score\n",
    "from sentence_transformers import SentenceTransformer\n",
    "from TextPreprocessor import TextPreprocessor\n",
    "import warnings"
   ]
  },
  {
   "cell_type": "markdown",
   "id": "75f60b1d",
   "metadata": {},
   "source": [
    "# إعدادات\n",
    "DB_PATH = 'ir_project.db'\n",
    "MODEL_DIR = 'models'\n",
    "FAISS_INDEX_PATH = f\"indexes/faiss_index_webis_bert.index\"\n",
    "DOC_IDS_PATH = f\"{MODEL_DIR}/doc_ids_bert_webis.joblib\"\n",
    "GROUP = 'webis'\n",
    "TOP_K = 10"
   ]
  },
  {
   "cell_type": "markdown",
   "id": "38fa0333",
   "metadata": {},
   "source": [
    "# تحميل الموارد\n",
    "print(\"📦 تحميل فهرس FAISS والتمثيلات...\")\n",
    "faiss_index = faiss.read_index(FAISS_INDEX_PATH)\n",
    "doc_ids = joblib.load(DOC_IDS_PATH)\n",
    "bert_model = SentenceTransformer('all-MiniLM-L6-v2')"
   ]
  },
  {
   "cell_type": "markdown",
   "id": "fe5dabac",
   "metadata": {},
   "source": [
    "# الاتصال بقاعدة البيانات\n",
    "conn = sqlite3.connect(DB_PATH)\n",
    "cursor = conn.cursor()"
   ]
  },
  {
   "cell_type": "markdown",
   "id": "02776b7c",
   "metadata": {},
   "source": [
    "# تحميل الاستعلامات والعلاقات\n",
    "cursor.execute(\"SELECT query_id, query_text FROM queries WHERE source = ?\", (GROUP,))\n",
    "queries = cursor.fetchall()\n",
    "query_dict = {q_id: text for q_id, text in queries}"
   ]
  },
  {
   "cell_type": "markdown",
   "id": "2d018596",
   "metadata": {},
   "source": [
    "cursor.execute(\"SELECT query_id, doc_id FROM qrels WHERE source = ?\", (GROUP,))\n",
    "qrel_rows = cursor.fetchall()\n",
    "qrels = {}\n",
    "for q_id, doc_id in qrel_rows:\n",
    "    qrels.setdefault(q_id, set()).add(doc_id)"
   ]
  },
  {
   "cell_type": "markdown",
   "id": "98537393",
   "metadata": {},
   "source": [
    "# المعالجة\n",
    "pre = TextPreprocessor()"
   ]
  },
  {
   "cell_type": "markdown",
   "id": "69bacadc",
   "metadata": {},
   "source": [
    "# التقييم\n",
    "map_scores, mrr_scores, recall_scores, precision_scores = [], [], [], []"
   ]
  },
  {
   "cell_type": "markdown",
   "id": "746ed5de",
   "metadata": {},
   "source": [
    "start_time = time.perf_counter()"
   ]
  },
  {
   "cell_type": "markdown",
   "id": "345181d2",
   "metadata": {},
   "source": [
    "for query_id, query_text in query_dict.items():\n",
    "    content = pre.preprocess(query_text)\n",
    "    if not content:\n",
    "        continue"
   ]
  },
  {
   "cell_type": "markdown",
   "id": "442a6716",
   "metadata": {},
   "source": [
    "    query_vec = bert_model.encode([' '.join(content)]).astype('float32')\n",
    "    D, I = faiss_index.search(query_vec, TOP_K)  # D: distances, I: indices"
   ]
  },
  {
   "cell_type": "markdown",
   "id": "2f28934a",
   "metadata": {},
   "source": [
    "    retrieved = [doc_ids[i] for i in I[0]]\n",
    "    scores = 1 - D[0]  # تحويل L2 distance إلى score (كلما قلت المسافة زاد التشابه)"
   ]
  },
  {
   "cell_type": "markdown",
   "id": "a668cb1b",
   "metadata": {},
   "source": [
    "    relevant_docs = qrels.get(query_id, set())\n",
    "    y_true = [1 if doc_id in relevant_docs else 0 for doc_id in retrieved]"
   ]
  },
  {
   "cell_type": "markdown",
   "id": "65258019",
   "metadata": {},
   "source": [
    "    # MAP\n",
    "    if any(y_true):\n",
    "        with warnings.catch_warnings():\n",
    "            warnings.simplefilter(\"ignore\")\n",
    "            map_scores.append(average_precision_score(y_true, scores))\n",
    "    else:\n",
    "        map_scores.append(0)"
   ]
  },
  {
   "cell_type": "markdown",
   "id": "3481553f",
   "metadata": {},
   "source": [
    "    # MRR\n",
    "    for rank, rel in enumerate(y_true, 1):\n",
    "        if rel:\n",
    "            mrr_scores.append(1 / rank)\n",
    "            break\n",
    "    else:\n",
    "        mrr_scores.append(0)"
   ]
  },
  {
   "cell_type": "markdown",
   "id": "36b93d10",
   "metadata": {},
   "source": [
    "    # Recall@K\n",
    "    recall = sum(y_true) / len(relevant_docs) if relevant_docs else 0\n",
    "    recall_scores.append(recall)"
   ]
  },
  {
   "cell_type": "markdown",
   "id": "5bbd406f",
   "metadata": {},
   "source": [
    "    # Precision@K\n",
    "    precision = sum(y_true) / len(y_true) if y_true else 0\n",
    "    precision_scores.append(precision)"
   ]
  },
  {
   "cell_type": "markdown",
   "id": "c4335cfc",
   "metadata": {},
   "source": [
    "end_time = time.perf_counter()\n",
    "elapsed = end_time - start_time"
   ]
  },
  {
   "cell_type": "markdown",
   "id": "a1805b20",
   "metadata": {},
   "source": [
    "# عرض النتائج\n",
    "print(\"\\n✅ التقييم مكتمل باستخدام FAISS + BERT!\")\n",
    "print(f\"📊 MAP: {np.mean(map_scores):.4f}\")\n",
    "print(f\"📊 MRR: {np.mean(mrr_scores):.4f}\")\n",
    "print(f\"📊 Recall@{TOP_K}: {np.mean(recall_scores):.4f}\")\n",
    "print(f\"📊 Precision@{TOP_K}: {np.mean(precision_scores):.4f}\")\n",
    "print(f\"🕒 زمن التنفيذ الكلي: {elapsed:.2f} ثانية\")"
   ]
  },
  {
   "cell_type": "code",
   "execution_count": 1,
   "id": "091e7897",
   "metadata": {},
   "outputs": [
    {
     "name": "stderr",
     "output_type": "stream",
     "text": [
      "C:\\Python311\\Lib\\site-packages\\tqdm\\auto.py:21: TqdmWarning: IProgress not found. Please update jupyter and ipywidgets. See https://ipywidgets.readthedocs.io/en/stable/user_install.html\n",
      "  from .autonotebook import tqdm as notebook_tqdm\n",
      "[nltk_data] Downloading package stopwords to\n",
      "[nltk_data]     C:\\Users\\bayan\\AppData\\Roaming\\nltk_data...\n",
      "[nltk_data]   Package stopwords is already up-to-date!\n",
      "[nltk_data] Downloading package wordnet to\n",
      "[nltk_data]     C:\\Users\\bayan\\AppData\\Roaming\\nltk_data...\n",
      "[nltk_data]   Package wordnet is already up-to-date!\n"
     ]
    }
   ],
   "source": [
    "import sqlite3\n",
    "import joblib\n",
    "import numpy as np\n",
    "import time\n",
    "import faiss\n",
    "import pandas as pd\n",
    "import json\n",
    "import warnings\n",
    "from sklearn.metrics import average_precision_score\n",
    "from sentence_transformers import SentenceTransformer\n",
    "from TextPreprocessor import TextPreprocessor\n",
    "from pprint import pprint"
   ]
  },
  {
   "cell_type": "code",
   "execution_count": 2,
   "id": "eaca774b",
   "metadata": {},
   "outputs": [],
   "source": [
    "# إعدادات\n",
    "DB_PATH = 'ir_project.db'\n",
    "MODEL_DIR = 'models'\n",
    "FAISS_INDEX_PATH = f\"indexes/faiss_index_webis_bert.index\"\n",
    "DOC_IDS_PATH = f\"{MODEL_DIR}/doc_ids_bert_webis.joblib\"\n",
    "GROUP = 'webis'\n",
    "TOP_K = 10"
   ]
  },
  {
   "cell_type": "code",
   "execution_count": 3,
   "id": "f9e49b0c",
   "metadata": {},
   "outputs": [
    {
     "name": "stdout",
     "output_type": "stream",
     "text": [
      "📦 تحميل فهرس FAISS والتمثيلات...\n"
     ]
    }
   ],
   "source": [
    "# تحميل الموارد\n",
    "print(\"📦 تحميل فهرس FAISS والتمثيلات...\")\n",
    "faiss_index = faiss.read_index(FAISS_INDEX_PATH)\n",
    "doc_ids = joblib.load(DOC_IDS_PATH)\n",
    "bert_model = SentenceTransformer('all-MiniLM-L6-v2')"
   ]
  },
  {
   "cell_type": "code",
   "execution_count": 4,
   "id": "0b5f6ee4",
   "metadata": {},
   "outputs": [],
   "source": [
    "# الاتصال بقاعدة البيانات\n",
    "conn = sqlite3.connect(DB_PATH)\n",
    "cursor = conn.cursor()"
   ]
  },
  {
   "cell_type": "code",
   "execution_count": 5,
   "id": "3423ba07",
   "metadata": {},
   "outputs": [],
   "source": [
    "# تحميل الاستعلامات والعلاقات\n",
    "cursor.execute(\"SELECT query_id, query_text FROM queries WHERE source = ?\", (GROUP,))\n",
    "queries = cursor.fetchall()\n",
    "query_dict = {q_id: text for q_id, text in queries}"
   ]
  },
  {
   "cell_type": "code",
   "execution_count": 6,
   "id": "6f30b705",
   "metadata": {},
   "outputs": [],
   "source": [
    "cursor.execute(\"SELECT query_id, doc_id FROM qrels WHERE source = ?\", (GROUP,))\n",
    "qrel_rows = cursor.fetchall()\n",
    "qrels = {}\n",
    "for q_id, doc_id in qrel_rows:\n",
    "    qrels.setdefault(q_id, set()).add(doc_id)"
   ]
  },
  {
   "cell_type": "code",
   "execution_count": 7,
   "id": "bcf010fa",
   "metadata": {},
   "outputs": [],
   "source": [
    "# المعالجة\n",
    "pre = TextPreprocessor()"
   ]
  },
  {
   "cell_type": "code",
   "execution_count": 8,
   "id": "6c5d118c",
   "metadata": {},
   "outputs": [],
   "source": [
    "# التقييم\n",
    "map_scores, mrr_scores, recall_scores, precision_scores = [], [], [], []"
   ]
  },
  {
   "cell_type": "code",
   "execution_count": 9,
   "id": "f7922b6c",
   "metadata": {},
   "outputs": [],
   "source": [
    "start_time = time.perf_counter()"
   ]
  },
  {
   "cell_type": "code",
   "execution_count": 10,
   "id": "8d0291d9",
   "metadata": {},
   "outputs": [],
   "source": [
    "for query_id, query_text in query_dict.items():\n",
    "    content = pre.preprocess(query_text)\n",
    "    if not content:\n",
    "        continue\n",
    "\n",
    "    query_vec = bert_model.encode([' '.join(content)]).astype('float32')\n",
    "    D, I = faiss_index.search(query_vec, TOP_K)  # D: distances, I: indices\n",
    "\n",
    "    retrieved = [doc_ids[i] for i in I[0]]\n",
    "    scores = 1 - D[0]  # تحويل L2 distance إلى score\n",
    "\n",
    "    relevant_docs = qrels.get(query_id, set())\n",
    "    y_true = [1 if doc_id in relevant_docs else 0 for doc_id in retrieved]\n",
    "\n",
    "    # MAP\n",
    "    if any(y_true):\n",
    "        with warnings.catch_warnings():\n",
    "            warnings.simplefilter(\"ignore\")\n",
    "            map_scores.append(average_precision_score(y_true, scores))\n",
    "    else:\n",
    "        map_scores.append(0)\n",
    "\n",
    "    # MRR\n",
    "    for rank, rel in enumerate(y_true, 1):\n",
    "        if rel:\n",
    "            mrr_scores.append(1 / rank)\n",
    "            break\n",
    "    else:\n",
    "        mrr_scores.append(0)\n",
    "\n",
    "    # Recall@K\n",
    "    recall = sum(y_true) / len(relevant_docs) if relevant_docs else 0\n",
    "    recall_scores.append(recall)\n",
    "\n",
    "    # Precision@K\n",
    "    precision = sum(y_true) / len(y_true) if y_true else 0\n",
    "    precision_scores.append(precision)"
   ]
  },
  {
   "cell_type": "code",
   "execution_count": 11,
   "id": "36183aff",
   "metadata": {},
   "outputs": [],
   "source": [
    "end_time = time.perf_counter()\n",
    "elapsed = end_time - start_time"
   ]
  },
  {
   "cell_type": "code",
   "execution_count": 12,
   "id": "320477a4",
   "metadata": {},
   "outputs": [],
   "source": [
    "# إعداد النتائج\n",
    "results = {\n",
    "    \"MAP\": round(np.mean(map_scores), 4),\n",
    "    \"MRR\": round(np.mean(mrr_scores), 4),\n",
    "    f\"Recall@{TOP_K}\": round(np.mean(recall_scores), 4),\n",
    "    f\"Precision@{TOP_K}\": round(np.mean(precision_scores), 4),\n",
    "    \"Execution Time (s)\": round(elapsed, 2),\n",
    "    \"Queries Evaluated\": len(map_scores)\n",
    "}"
   ]
  },
  {
   "cell_type": "code",
   "execution_count": 13,
   "id": "2824b9e8",
   "metadata": {},
   "outputs": [
    {
     "name": "stdout",
     "output_type": "stream",
     "text": [
      "\n",
      "✅ التقييم مكتمل باستخدام FAISS + BERT!\n",
      "{'Execution Time (s)': 3.84,\n",
      " 'MAP': np.float64(0.4029),\n",
      " 'MRR': np.float64(0.4678),\n",
      " 'Precision@10': np.float64(0.1857),\n",
      " 'Queries Evaluated': 49,\n",
      " 'Recall@10': np.float64(0.0412)}\n"
     ]
    }
   ],
   "source": [
    "# طباعة النتائج\n",
    "print(\"\\n✅ التقييم مكتمل باستخدام FAISS + BERT!\")\n",
    "pprint(results)"
   ]
  },
  {
   "cell_type": "code",
   "execution_count": 14,
   "id": "b59e1a81",
   "metadata": {},
   "outputs": [
    {
     "data": {
      "text/html": [
       "<div>\n",
       "<style scoped>\n",
       "    .dataframe tbody tr th:only-of-type {\n",
       "        vertical-align: middle;\n",
       "    }\n",
       "\n",
       "    .dataframe tbody tr th {\n",
       "        vertical-align: top;\n",
       "    }\n",
       "\n",
       "    .dataframe thead th {\n",
       "        text-align: right;\n",
       "    }\n",
       "</style>\n",
       "<table border=\"1\" class=\"dataframe\">\n",
       "  <thead>\n",
       "    <tr style=\"text-align: right;\">\n",
       "      <th></th>\n",
       "      <th>MAP</th>\n",
       "      <th>MRR</th>\n",
       "      <th>Recall@10</th>\n",
       "      <th>Precision@10</th>\n",
       "      <th>Execution Time (s)</th>\n",
       "      <th>Queries Evaluated</th>\n",
       "    </tr>\n",
       "  </thead>\n",
       "  <tbody>\n",
       "    <tr>\n",
       "      <th>0</th>\n",
       "      <td>0.4029</td>\n",
       "      <td>0.4678</td>\n",
       "      <td>0.0412</td>\n",
       "      <td>0.1857</td>\n",
       "      <td>3.84</td>\n",
       "      <td>49</td>\n",
       "    </tr>\n",
       "  </tbody>\n",
       "</table>\n",
       "</div>"
      ],
      "text/plain": [
       "      MAP     MRR  Recall@10  Precision@10  Execution Time (s)  \\\n",
       "0  0.4029  0.4678     0.0412        0.1857                3.84   \n",
       "\n",
       "   Queries Evaluated  \n",
       "0                 49  "
      ]
     },
     "metadata": {},
     "output_type": "display_data"
    }
   ],
   "source": [
    "# عرض النتائج في جدول داخل Jupyter\n",
    "df_results = pd.DataFrame([results])\n",
    "display(df_results)"
   ]
  },
  {
   "cell_type": "code",
   "execution_count": 15,
   "id": "931cba85",
   "metadata": {},
   "outputs": [],
   "source": [
    "# حفظ النتائج\n",
    "with open(\"faiss_bert_evaluation_results_webis.json\", \"w\", encoding=\"utf-8\") as f:\n",
    "    json.dump(results, f, indent=4, ensure_ascii=False)"
   ]
  }
 ],
 "metadata": {
  "jupytext": {
   "cell_metadata_filter": "-all",
   "main_language": "python",
   "notebook_metadata_filter": "-all"
  },
  "kernelspec": {
   "display_name": "Python 3.11",
   "language": "python",
   "name": "python311"
  },
  "language_info": {
   "codemirror_mode": {
    "name": "ipython",
    "version": 3
   },
   "file_extension": ".py",
   "mimetype": "text/x-python",
   "name": "python",
   "nbconvert_exporter": "python",
   "pygments_lexer": "ipython3",
   "version": "3.11.2"
  }
 },
 "nbformat": 4,
 "nbformat_minor": 5
}
