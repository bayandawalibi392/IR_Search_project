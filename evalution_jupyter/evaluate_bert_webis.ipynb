{
 "cells": [
  {
   "cell_type": "markdown",
   "id": "bed2b4b5",
   "metadata": {},
   "source": [
    "import sqlite3\n",
    "import joblib\n",
    "import numpy as np\n",
    "import time\n",
    "from sklearn.metrics import average_precision_score, pairwise\n",
    "from sentence_transformers import SentenceTransformer\n",
    "from TextPreprocessor import TextPreprocessor\n",
    "import warnings"
   ]
  },
  {
   "cell_type": "markdown",
   "id": "d1ee9e94",
   "metadata": {},
   "source": [
    "# إعدادات\n",
    "DB_PATH = 'ir_project.db'\n",
    "MODEL_DIR = 'models'\n",
    "INDEX_DIR = 'indexes'\n",
    "GROUP = 'webis'\n",
    "TOP_K = 10"
   ]
  },
  {
   "cell_type": "markdown",
   "id": "e616ea97",
   "metadata": {},
   "source": [
    "# تحميل الموارد\n",
    "print(\"📦 تحميل التمثيلات والفهارس...\")\n",
    "inverted_index = joblib.load(f\"{INDEX_DIR}/inverted_index1_{GROUP}.joblib\")\n",
    "doc_embeddings = joblib.load(f\"{MODEL_DIR}/bert_vectors_{GROUP}.joblib\")\n",
    "doc_ids = joblib.load(f\"{MODEL_DIR}/doc_ids_bert_{GROUP}.joblib\")\n",
    "bert_model = SentenceTransformer('all-MiniLM-L6-v2')"
   ]
  },
  {
   "cell_type": "markdown",
   "id": "fef33fdc",
   "metadata": {},
   "source": [
    "# الاتصال بقاعدة البيانات\n",
    "conn = sqlite3.connect(DB_PATH)\n",
    "cursor = conn.cursor()"
   ]
  },
  {
   "cell_type": "markdown",
   "id": "a71b71b0",
   "metadata": {},
   "source": [
    "# تحميل الاستعلامات والعلاقات\n",
    "cursor.execute(\"SELECT query_id, query_text FROM queries WHERE source = ?\", (GROUP,))\n",
    "queries = cursor.fetchall()\n",
    "query_dict = {q_id: text for q_id, text in queries}"
   ]
  },
  {
   "cell_type": "markdown",
   "id": "7909d157",
   "metadata": {},
   "source": [
    "cursor.execute(\"SELECT query_id, doc_id FROM qrels WHERE source = ?\", (GROUP,))\n",
    "qrel_rows = cursor.fetchall()\n",
    "qrels = {}\n",
    "for q_id, doc_id in qrel_rows:\n",
    "    qrels.setdefault(q_id, set()).add(doc_id)"
   ]
  },
  {
   "cell_type": "markdown",
   "id": "a1038954",
   "metadata": {},
   "source": [
    "# المعالجة\n",
    "pre = TextPreprocessor()"
   ]
  },
  {
   "cell_type": "markdown",
   "id": "3ccafd4b",
   "metadata": {},
   "source": [
    "# التقييم\n",
    "map_scores = []\n",
    "mrr_scores = []\n",
    "recall_scores = []\n",
    "precision_scores = []"
   ]
  },
  {
   "cell_type": "markdown",
   "id": "271dce56",
   "metadata": {},
   "source": [
    "start_time = time.perf_counter()"
   ]
  },
  {
   "cell_type": "markdown",
   "id": "8a32ca85",
   "metadata": {},
   "source": [
    "for query_id, query_text in query_dict.items():\n",
    "    content = pre.preprocess(query_text, use_stemming=False, use_lemmatization=False)\n",
    "    if not content:\n",
    "        continue"
   ]
  },
  {
   "cell_type": "markdown",
   "id": "c1bab254",
   "metadata": {},
   "source": [
    "    candidate_indices = set()\n",
    "    for token in content:\n",
    "        if token in inverted_index:\n",
    "            candidate_indices.update(inverted_index[token])\n",
    "    if not candidate_indices:\n",
    "        continue"
   ]
  },
  {
   "cell_type": "markdown",
   "id": "313eb59d",
   "metadata": {},
   "source": [
    "    candidate_indices = sorted(candidate_indices)\n",
    "    candidate_vectors = np.array([doc_embeddings[i] for i in candidate_indices])"
   ]
  },
  {
   "cell_type": "markdown",
   "id": "ef3cdd8f",
   "metadata": {},
   "source": [
    "    # تمثيل الاستعلام باستخدام BERT\n",
    "    query_vec = bert_model.encode([' '.join(content)])\n",
    "    scores = pairwise.cosine_similarity(query_vec, candidate_vectors)[0]"
   ]
  },
  {
   "cell_type": "markdown",
   "id": "ec4be4f4",
   "metadata": {},
   "source": [
    "    top_indices_local = np.argsort(scores)[-TOP_K:][::-1]\n",
    "    top_indices_global = [candidate_indices[i] for i in top_indices_local]\n",
    "    retrieved = [doc_ids[i] for i in top_indices_global]"
   ]
  },
  {
   "cell_type": "markdown",
   "id": "2e946863",
   "metadata": {},
   "source": [
    "    relevant_docs = qrels.get(query_id, set())\n",
    "    y_true = [1 if doc_id in relevant_docs else 0 for doc_id in retrieved]\n",
    "    y_scores = scores[top_indices_local]"
   ]
  },
  {
   "cell_type": "markdown",
   "id": "80c6a417",
   "metadata": {},
   "source": [
    "    # MAP\n",
    "    if any(y_true):\n",
    "        with warnings.catch_warnings():\n",
    "            warnings.simplefilter(\"ignore\")\n",
    "            map_scores.append(average_precision_score(y_true, y_scores))\n",
    "    else:\n",
    "        map_scores.append(0)"
   ]
  },
  {
   "cell_type": "markdown",
   "id": "2c22e2fa",
   "metadata": {},
   "source": [
    "    # MRR\n",
    "    for rank, rel in enumerate(y_true, 1):\n",
    "        if rel:\n",
    "            mrr_scores.append(1 / rank)\n",
    "            break\n",
    "    else:\n",
    "        mrr_scores.append(0)"
   ]
  },
  {
   "cell_type": "markdown",
   "id": "b27bd59c",
   "metadata": {},
   "source": [
    "    # Recall@K\n",
    "    recall = sum(y_true) / len(relevant_docs) if relevant_docs else 0\n",
    "    recall_scores.append(recall)"
   ]
  },
  {
   "cell_type": "markdown",
   "id": "023ccd80",
   "metadata": {},
   "source": [
    "    # Precision@K\n",
    "    precision = sum(y_true) / len(y_true) if y_true else 0\n",
    "    precision_scores.append(precision)"
   ]
  },
  {
   "cell_type": "markdown",
   "id": "d751cd3e",
   "metadata": {},
   "source": [
    "end_time = time.perf_counter()\n",
    "elapsed = end_time - start_time"
   ]
  },
  {
   "cell_type": "code",
   "execution_count": 1,
   "id": "e7a1ab50",
   "metadata": {},
   "outputs": [
    {
     "name": "stderr",
     "output_type": "stream",
     "text": [
      "C:\\Python311\\Lib\\site-packages\\tqdm\\auto.py:21: TqdmWarning: IProgress not found. Please update jupyter and ipywidgets. See https://ipywidgets.readthedocs.io/en/stable/user_install.html\n",
      "  from .autonotebook import tqdm as notebook_tqdm\n",
      "[nltk_data] Downloading package stopwords to\n",
      "[nltk_data]     C:\\Users\\bayan\\AppData\\Roaming\\nltk_data...\n",
      "[nltk_data]   Package stopwords is already up-to-date!\n",
      "[nltk_data] Downloading package wordnet to\n",
      "[nltk_data]     C:\\Users\\bayan\\AppData\\Roaming\\nltk_data...\n",
      "[nltk_data]   Package wordnet is already up-to-date!\n"
     ]
    }
   ],
   "source": [
    "# # عرض النتائج\n",
    "# print(\"\\n✅ التقييم مكتمل باستخدام BERT!\")\n",
    "# print(f\"📊 MAP: {np.mean(map_scores):.4f}\")\n",
    "# print(f\"📊 MRR: {np.mean(mrr_scores):.4f}\")\n",
    "# print(f\"📊 Recall@{TOP_K}: {np.mean(recall_scores):.4f}\")\n",
    "# print(f\"📊 Precision@{TOP_K}: {np.mean(precision_scores):.4f}\")\n",
    "# print(f\"🕒 زمن التنفيذ الكلي: {elapsed:.2f} ثانية\")\n",
    "import sqlite3\n",
    "import joblib\n",
    "import numpy as np\n",
    "import time\n",
    "import warnings\n",
    "import json\n",
    "import pandas as pd\n",
    "from sklearn.metrics import average_precision_score, pairwise\n",
    "from sentence_transformers import SentenceTransformer\n",
    "from TextPreprocessor import TextPreprocessor\n",
    "from pprint import pprint"
   ]
  },
  {
   "cell_type": "code",
   "execution_count": 2,
   "id": "84f44122",
   "metadata": {},
   "outputs": [],
   "source": [
    "# إعدادات\n",
    "DB_PATH = 'ir_project.db'\n",
    "MODEL_DIR = 'models'\n",
    "INDEX_DIR = 'indexes'\n",
    "GROUP = 'webis'\n",
    "TOP_K = 10"
   ]
  },
  {
   "cell_type": "code",
   "execution_count": 3,
   "id": "21aa0980",
   "metadata": {},
   "outputs": [
    {
     "name": "stdout",
     "output_type": "stream",
     "text": [
      "📦 تحميل التمثيلات والفهارس...\n"
     ]
    }
   ],
   "source": [
    "# تحميل الموارد\n",
    "print(\"📦 تحميل التمثيلات والفهارس...\")\n",
    "inverted_index = joblib.load(f\"{INDEX_DIR}/inverted_index1_{GROUP}.joblib\")\n",
    "doc_embeddings = joblib.load(f\"{MODEL_DIR}/bert_vectors_{GROUP}.joblib\")\n",
    "doc_ids = joblib.load(f\"{MODEL_DIR}/doc_ids_bert_{GROUP}.joblib\")\n",
    "bert_model = SentenceTransformer('all-MiniLM-L6-v2')"
   ]
  },
  {
   "cell_type": "code",
   "execution_count": 4,
   "id": "eab8e413",
   "metadata": {},
   "outputs": [],
   "source": [
    "# الاتصال بقاعدة البيانات\n",
    "conn = sqlite3.connect(DB_PATH)\n",
    "cursor = conn.cursor()"
   ]
  },
  {
   "cell_type": "code",
   "execution_count": 5,
   "id": "314d1df5",
   "metadata": {},
   "outputs": [],
   "source": [
    "# تحميل الاستعلامات والعلاقات\n",
    "cursor.execute(\"SELECT query_id, query_text FROM queries WHERE source = ?\", (GROUP,))\n",
    "queries = cursor.fetchall()\n",
    "query_dict = {q_id: text for q_id, text in queries}"
   ]
  },
  {
   "cell_type": "code",
   "execution_count": 6,
   "id": "72dfbc55",
   "metadata": {},
   "outputs": [],
   "source": [
    "cursor.execute(\"SELECT query_id, doc_id FROM qrels WHERE source = ?\", (GROUP,))\n",
    "qrel_rows = cursor.fetchall()\n",
    "qrels = {}\n",
    "for q_id, doc_id in qrel_rows:\n",
    "    qrels.setdefault(q_id, set()).add(doc_id)"
   ]
  },
  {
   "cell_type": "code",
   "execution_count": 7,
   "id": "9757835e",
   "metadata": {},
   "outputs": [],
   "source": [
    "# المعالجة\n",
    "pre = TextPreprocessor()"
   ]
  },
  {
   "cell_type": "code",
   "execution_count": 8,
   "id": "c2c86ea2",
   "metadata": {},
   "outputs": [],
   "source": [
    "# التقييم\n",
    "map_scores = []\n",
    "mrr_scores = []\n",
    "recall_scores = []\n",
    "precision_scores = []"
   ]
  },
  {
   "cell_type": "code",
   "execution_count": 9,
   "id": "58bcef66",
   "metadata": {},
   "outputs": [],
   "source": [
    "start_time = time.perf_counter()"
   ]
  },
  {
   "cell_type": "code",
   "execution_count": 10,
   "id": "69c64bab",
   "metadata": {},
   "outputs": [],
   "source": [
    "for query_id, query_text in query_dict.items():\n",
    "    content = pre.preprocess(query_text, use_stemming=False, use_lemmatization=False)\n",
    "    if not content:\n",
    "        continue\n",
    "\n",
    "    candidate_indices = set()\n",
    "    for token in content:\n",
    "        if token in inverted_index:\n",
    "            candidate_indices.update(inverted_index[token])\n",
    "    if not candidate_indices:\n",
    "        continue\n",
    "\n",
    "    candidate_indices = sorted(candidate_indices)\n",
    "    candidate_vectors = np.array([doc_embeddings[i] for i in candidate_indices])\n",
    "    query_vec = bert_model.encode([' '.join(content)])\n",
    "    scores = pairwise.cosine_similarity(query_vec, candidate_vectors)[0]\n",
    "\n",
    "    top_indices_local = np.argsort(scores)[-TOP_K:][::-1]\n",
    "    top_indices_global = [candidate_indices[i] for i in top_indices_local]\n",
    "    retrieved = [doc_ids[i] for i in top_indices_global]\n",
    "\n",
    "    relevant_docs = qrels.get(query_id, set())\n",
    "    y_true = [1 if doc_id in relevant_docs else 0 for doc_id in retrieved]\n",
    "    y_scores = scores[top_indices_local]\n",
    "\n",
    "    if any(y_true):\n",
    "        with warnings.catch_warnings():\n",
    "            warnings.simplefilter(\"ignore\")\n",
    "            map_scores.append(average_precision_score(y_true, y_scores))\n",
    "    else:\n",
    "        map_scores.append(0)\n",
    "\n",
    "    for rank, rel in enumerate(y_true, 1):\n",
    "        if rel:\n",
    "            mrr_scores.append(1 / rank)\n",
    "            break\n",
    "    else:\n",
    "        mrr_scores.append(0)\n",
    "\n",
    "    recall = sum(y_true) / len(relevant_docs) if relevant_docs else 0\n",
    "    recall_scores.append(recall)\n",
    "\n",
    "    precision = sum(y_true) / len(y_true) if y_true else 0\n",
    "    precision_scores.append(precision)"
   ]
  },
  {
   "cell_type": "code",
   "execution_count": 11,
   "id": "fe94927e",
   "metadata": {},
   "outputs": [],
   "source": [
    "elapsed = time.perf_counter() - start_time"
   ]
  },
  {
   "cell_type": "code",
   "execution_count": 12,
   "id": "37b3ea21",
   "metadata": {},
   "outputs": [],
   "source": [
    "# إعداد النتائج كقاموس\n",
    "results = {\n",
    "    \"MAP\": round(np.mean(map_scores), 4),\n",
    "    \"MRR\": round(np.mean(mrr_scores), 4),\n",
    "    f\"Recall@{TOP_K}\": round(np.mean(recall_scores), 4),\n",
    "    f\"Precision@{TOP_K}\": round(np.mean(precision_scores), 4),\n",
    "    \"Execution Time (s)\": round(elapsed, 2),\n",
    "    \"Queries Evaluated\": len(map_scores)\n",
    "}"
   ]
  },
  {
   "cell_type": "code",
   "execution_count": 13,
   "id": "dc923279",
   "metadata": {},
   "outputs": [
    {
     "name": "stdout",
     "output_type": "stream",
     "text": [
      "\n",
      "✅ التقييم مكتمل باستخدام BERT!\n",
      "{'Execution Time (s)': 10.13,\n",
      " 'MAP': np.float64(0.3494),\n",
      " 'MRR': np.float64(0.4441),\n",
      " 'Precision@10': np.float64(0.1643),\n",
      " 'Queries Evaluated': 42,\n",
      " 'Recall@10': np.float64(0.0359)}\n"
     ]
    }
   ],
   "source": [
    "# طباعة النتائج\n",
    "print(\"\\n✅ التقييم مكتمل باستخدام BERT!\")\n",
    "pprint(results)"
   ]
  },
  {
   "cell_type": "code",
   "execution_count": 14,
   "id": "92c7c99e",
   "metadata": {},
   "outputs": [],
   "source": [
    "# حفظ النتائج كـ JSON\n",
    "with open(\"bert_evaluation_results_webis.json\", \"w\", encoding=\"utf-8\") as f:\n",
    "    json.dump(results, f, indent=4, ensure_ascii=False)"
   ]
  },
  {
   "cell_type": "code",
   "execution_count": 15,
   "id": "5252b9a7",
   "metadata": {},
   "outputs": [
    {
     "data": {
      "text/html": [
       "<div>\n",
       "<style scoped>\n",
       "    .dataframe tbody tr th:only-of-type {\n",
       "        vertical-align: middle;\n",
       "    }\n",
       "\n",
       "    .dataframe tbody tr th {\n",
       "        vertical-align: top;\n",
       "    }\n",
       "\n",
       "    .dataframe thead th {\n",
       "        text-align: right;\n",
       "    }\n",
       "</style>\n",
       "<table border=\"1\" class=\"dataframe\">\n",
       "  <thead>\n",
       "    <tr style=\"text-align: right;\">\n",
       "      <th></th>\n",
       "      <th>MAP</th>\n",
       "      <th>MRR</th>\n",
       "      <th>Recall@10</th>\n",
       "      <th>Precision@10</th>\n",
       "      <th>Execution Time (s)</th>\n",
       "      <th>Queries Evaluated</th>\n",
       "    </tr>\n",
       "  </thead>\n",
       "  <tbody>\n",
       "    <tr>\n",
       "      <th>0</th>\n",
       "      <td>0.3494</td>\n",
       "      <td>0.4441</td>\n",
       "      <td>0.0359</td>\n",
       "      <td>0.1643</td>\n",
       "      <td>10.13</td>\n",
       "      <td>42</td>\n",
       "    </tr>\n",
       "  </tbody>\n",
       "</table>\n",
       "</div>"
      ],
      "text/plain": [
       "      MAP     MRR  Recall@10  Precision@10  Execution Time (s)  \\\n",
       "0  0.3494  0.4441     0.0359        0.1643               10.13   \n",
       "\n",
       "   Queries Evaluated  \n",
       "0                 42  "
      ]
     },
     "execution_count": 15,
     "metadata": {},
     "output_type": "execute_result"
    }
   ],
   "source": [
    "# عرض النتائج على شكل جدول\n",
    "pd.DataFrame([results])\n"
   ]
  }
 ],
 "metadata": {
  "jupytext": {
   "cell_metadata_filter": "-all",
   "main_language": "python",
   "notebook_metadata_filter": "-all"
  },
  "kernelspec": {
   "display_name": "Python 3.11",
   "language": "python",
   "name": "python311"
  },
  "language_info": {
   "codemirror_mode": {
    "name": "ipython",
    "version": 3
   },
   "file_extension": ".py",
   "mimetype": "text/x-python",
   "name": "python",
   "nbconvert_exporter": "python",
   "pygments_lexer": "ipython3",
   "version": "3.11.2"
  }
 },
 "nbformat": 4,
 "nbformat_minor": 5
}
