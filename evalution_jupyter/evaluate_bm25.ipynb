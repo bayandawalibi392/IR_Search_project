{
 "cells": [
  {
   "cell_type": "markdown",
   "id": "d8af3a57",
   "metadata": {},
   "source": [
    "import os\n",
    "import joblib\n",
    "import sqlite3\n",
    "from tqdm import tqdm\n",
    "from rank_bm25 import BM25Okapi\n",
    "from text_preprocessing_service import TextPreprocessingService\n",
    "from sklearn.metrics import average_precision_score\n",
    "import numpy as np"
   ]
  },
  {
   "cell_type": "markdown",
   "id": "c48e303e",
   "metadata": {},
   "source": [
    "# --- إعدادات ---\n",
    "SOURCE = \"quora\"  # أو \"quora\"\n",
    "TOP_N = 10\n",
    "MODELS_DIR = \"models\"\n",
    "INDEX_DIR = \"indexes\"\n",
    "DB_PATH = \"ir_project.db\""
   ]
  },
  {
   "cell_type": "markdown",
   "id": "b7070972",
   "metadata": {},
   "source": [
    "# --- تحميل البيانات ---\n",
    "print(\"📥 تحميل البيانات...\")\n",
    "bm25_data = joblib.load(os.path.join(MODELS_DIR, f\"bm25_{SOURCE}_model.joblib\"))\n",
    "inverted_index = joblib.load(os.path.join(INDEX_DIR, f\"inverted_index_{SOURCE}.joblib\"))"
   ]
  },
  {
   "cell_type": "markdown",
   "id": "22c71627",
   "metadata": {},
   "source": [
    "doc_ids = bm25_data['doc_ids']\n",
    "tokenized_corpus = bm25_data['tokenized_texts']\n",
    "k1 = bm25_data['k1']\n",
    "b = bm25_data['b']\n",
    "bm25 = BM25Okapi(tokenized_corpus, k1=k1, b=b)"
   ]
  },
  {
   "cell_type": "markdown",
   "id": "61333537",
   "metadata": {},
   "source": [
    "doc_id_to_idx = {doc_id: i for i, doc_id in enumerate(doc_ids)}"
   ]
  },
  {
   "cell_type": "markdown",
   "id": "b81e23a7",
   "metadata": {},
   "source": [
    "# --- الاتصال بقاعدة البيانات ---\n",
    "conn = sqlite3.connect(DB_PATH)\n",
    "cursor = conn.cursor()"
   ]
  },
  {
   "cell_type": "markdown",
   "id": "b5a3ba6f",
   "metadata": {},
   "source": [
    "# --- تحميل الاستعلامات و qrels ---\n",
    "cursor.execute(\"SELECT query_id, query_text FROM queries WHERE source = ?\", (SOURCE,))\n",
    "queries = cursor.fetchall()"
   ]
  },
  {
   "cell_type": "markdown",
   "id": "9b1ff718",
   "metadata": {},
   "source": [
    "cursor.execute(\"SELECT query_id, doc_id FROM qrels WHERE source = ?\", (SOURCE,))\n",
    "qrels_raw = cursor.fetchall()"
   ]
  },
  {
   "cell_type": "markdown",
   "id": "cc88a617",
   "metadata": {},
   "source": [
    "# بناء قاموس الاستعلامات ذات الصلة\n",
    "qrels = {}\n",
    "for qid, doc_id in qrels_raw:\n",
    "    qrels.setdefault(qid, set()).add(doc_id)"
   ]
  },
  {
   "cell_type": "markdown",
   "id": "0d1ad04c",
   "metadata": {},
   "source": [
    "# --- تهيئة ---\n",
    "preprocessor = TextPreprocessingService()\n",
    "precisions = []\n",
    "recalls = []\n",
    "average_precisions = []\n",
    "reciprocal_ranks = []"
   ]
  },
  {
   "cell_type": "markdown",
   "id": "be2e2c22",
   "metadata": {},
   "source": [
    "print(f\"\\n⚙️ بدء التقييم على {len(queries)} استعلام...\\n\")"
   ]
  },
  {
   "cell_type": "markdown",
   "id": "824da833",
   "metadata": {},
   "source": [
    "for qid, qtext in tqdm(queries):\n",
    "    if qid not in qrels:\n",
    "        continue"
   ]
  },
  {
   "cell_type": "markdown",
   "id": "bde5e5c9",
   "metadata": {},
   "source": [
    "    relevant_docs = qrels[qid]\n",
    "    tokens = preprocessor.preprocess(qtext, return_as_string=False)"
   ]
  },
  {
   "cell_type": "markdown",
   "id": "26faa60b",
   "metadata": {},
   "source": [
    "    # البحث في الفهرس\n",
    "    candidate_doc_ids = set()\n",
    "    for token in tokens:\n",
    "        if token in inverted_index:\n",
    "            candidate_doc_ids.update(inverted_index[token])"
   ]
  },
  {
   "cell_type": "markdown",
   "id": "8ae86e7d",
   "metadata": {},
   "source": [
    "    candidate_indices = [doc_id_to_idx[doc] for doc in candidate_doc_ids if doc in doc_id_to_idx]\n",
    "    if not candidate_indices:\n",
    "        continue"
   ]
  },
  {
   "cell_type": "markdown",
   "id": "32a3bde6",
   "metadata": {},
   "source": [
    "    scores = bm25.get_scores(tokens)\n",
    "    scored = [(i, scores[i]) for i in candidate_indices]\n",
    "    scored.sort(key=lambda x: x[1], reverse=True)\n",
    "    top_docs = [doc_ids[i] for i, _ in scored[:TOP_N]]"
   ]
  },
  {
   "cell_type": "markdown",
   "id": "7a6a41d9",
   "metadata": {},
   "source": [
    "    # حساب Precision@10\n",
    "    hits = [1 if doc in relevant_docs else 0 for doc in top_docs]\n",
    "    precision_at_10 = sum(hits) / TOP_N\n",
    "    recall = sum(hits) / len(relevant_docs)\n",
    "    precisions.append(precision_at_10)\n",
    "    recalls.append(recall)"
   ]
  },
  {
   "cell_type": "markdown",
   "id": "f9534963",
   "metadata": {},
   "source": [
    "    # MAP\n",
    "    y_true = [1 if doc_ids[i] in relevant_docs else 0 for i in range(len(doc_ids))]\n",
    "    y_scores = scores\n",
    "    try:\n",
    "        ap = average_precision_score(y_true, y_scores)\n",
    "    except:\n",
    "        ap = 0.0\n",
    "    average_precisions.append(ap)"
   ]
  },
  {
   "cell_type": "markdown",
   "id": "eab63691",
   "metadata": {},
   "source": [
    "    # MRR\n",
    "    for rank, doc in enumerate(top_docs, 1):\n",
    "        if doc in relevant_docs:\n",
    "            reciprocal_ranks.append(1 / rank)\n",
    "            break\n",
    "    else:\n",
    "        reciprocal_ranks.append(0.0)"
   ]
  },
  {
   "cell_type": "markdown",
   "id": "2490a101",
   "metadata": {},
   "source": [
    "# --- عرض النتائج ---\n",
    "print(\"\\n📊 تقييم النظام:\")\n",
    "print(f\"Precision@10: {np.mean(precisions):.4f}\")\n",
    "print(f\"Recall:        {np.mean(recalls):.4f}\")\n",
    "print(f\"MAP:           {np.mean(average_precisions):.4f}\")\n",
    "print(f\"MRR:           {np.mean(reciprocal_ranks):.4f}\")"
   ]
  },
  {
   "cell_type": "code",
   "execution_count": 1,
   "id": "6aee7582",
   "metadata": {},
   "outputs": [
    {
     "name": "stderr",
     "output_type": "stream",
     "text": [
      "[nltk_data] Downloading package punkt to\n",
      "[nltk_data]     C:\\Users\\bayan\\AppData\\Roaming\\nltk_data...\n",
      "[nltk_data]   Package punkt is already up-to-date!\n",
      "[nltk_data] Downloading package stopwords to\n",
      "[nltk_data]     C:\\Users\\bayan\\AppData\\Roaming\\nltk_data...\n",
      "[nltk_data]   Package stopwords is already up-to-date!\n"
     ]
    }
   ],
   "source": [
    "# conn.close()\n",
    "import os\n",
    "import joblib\n",
    "import sqlite3\n",
    "from tqdm import tqdm\n",
    "from rank_bm25 import BM25Okapi\n",
    "from text_preprocessing_service import TextPreprocessingService\n",
    "from sklearn.metrics import average_precision_score\n",
    "import numpy as np\n",
    "import pandas as pd\n",
    "import json\n",
    "import time"
   ]
  },
  {
   "cell_type": "code",
   "execution_count": 2,
   "id": "ae323edb",
   "metadata": {},
   "outputs": [],
   "source": [
    "# --- إعدادات ---\n",
    "SOURCE = \"quora\"\n",
    "TOP_N = 10\n",
    "MODELS_DIR = \"models\"\n",
    "INDEX_DIR = \"indexes\"\n",
    "DB_PATH = \"ir_project.db\""
   ]
  },
  {
   "cell_type": "code",
   "execution_count": 3,
   "id": "7eea968a",
   "metadata": {},
   "outputs": [
    {
     "name": "stdout",
     "output_type": "stream",
     "text": [
      "📥 تحميل البيانات...\n"
     ]
    }
   ],
   "source": [
    "# --- تحميل البيانات ---\n",
    "print(\"📥 تحميل البيانات...\")\n",
    "bm25_data = joblib.load(os.path.join(MODELS_DIR, f\"bm25_{SOURCE}_model.joblib\"))\n",
    "inverted_index = joblib.load(os.path.join(INDEX_DIR, f\"inverted_index_{SOURCE}.joblib\"))"
   ]
  },
  {
   "cell_type": "code",
   "execution_count": 4,
   "id": "0e77eb3b",
   "metadata": {},
   "outputs": [],
   "source": [
    "doc_ids = bm25_data['doc_ids']\n",
    "tokenized_corpus = bm25_data['tokenized_texts']\n",
    "k1 = bm25_data['k1']\n",
    "b = bm25_data['b']\n",
    "bm25 = BM25Okapi(tokenized_corpus, k1=k1, b=b)\n",
    "doc_id_to_idx = {doc_id: i for i, doc_id in enumerate(doc_ids)}"
   ]
  },
  {
   "cell_type": "code",
   "execution_count": 5,
   "id": "0a778fb8",
   "metadata": {},
   "outputs": [],
   "source": [
    "# --- الاتصال بقاعدة البيانات ---\n",
    "conn = sqlite3.connect(DB_PATH)\n",
    "cursor = conn.cursor()"
   ]
  },
  {
   "cell_type": "code",
   "execution_count": 6,
   "id": "2b9aaa30",
   "metadata": {},
   "outputs": [],
   "source": [
    "# --- تحميل الاستعلامات و qrels ---\n",
    "cursor.execute(\"SELECT query_id, query_text FROM queries WHERE source = ?\", (SOURCE,))\n",
    "queries = cursor.fetchall()"
   ]
  },
  {
   "cell_type": "code",
   "execution_count": 7,
   "id": "5ee09fa5",
   "metadata": {},
   "outputs": [],
   "source": [
    "cursor.execute(\"SELECT query_id, doc_id FROM qrels WHERE source = ?\", (SOURCE,))\n",
    "qrels_raw = cursor.fetchall()"
   ]
  },
  {
   "cell_type": "code",
   "execution_count": 8,
   "id": "cbc0d5f9",
   "metadata": {},
   "outputs": [],
   "source": [
    "qrels = {}\n",
    "for qid, doc_id in qrels_raw:\n",
    "    qrels.setdefault(qid, set()).add(doc_id)"
   ]
  },
  {
   "cell_type": "code",
   "execution_count": 9,
   "id": "9607e84c",
   "metadata": {},
   "outputs": [],
   "source": [
    "# --- تهيئة ---\n",
    "preprocessor = TextPreprocessingService()\n",
    "precisions, recalls, average_precisions, reciprocal_ranks = [], [], [], []"
   ]
  },
  {
   "cell_type": "code",
   "execution_count": 10,
   "id": "704a2cfb",
   "metadata": {},
   "outputs": [
    {
     "name": "stdout",
     "output_type": "stream",
     "text": [
      "\n",
      "⚙️ بدء التقييم على 5000 استعلام...\n",
      "\n"
     ]
    }
   ],
   "source": [
    "print(f\"\\n⚙️ بدء التقييم على {len(queries)} استعلام...\\n\")\n",
    "start_time = time.perf_counter()"
   ]
  },
  {
   "cell_type": "code",
   "execution_count": 11,
   "id": "f7ae4ade",
   "metadata": {},
   "outputs": [
    {
     "name": "stderr",
     "output_type": "stream",
     "text": [
      "100%|██████████| 5000/5000 [11:09:57<00:00,  8.04s/it]        \n"
     ]
    }
   ],
   "source": [
    "for qid, qtext in tqdm(queries):\n",
    "    if qid not in qrels:\n",
    "        continue\n",
    "\n",
    "    relevant_docs = qrels[qid]\n",
    "    tokens = preprocessor.preprocess(qtext, return_as_string=False)\n",
    "\n",
    "    candidate_doc_ids = set()\n",
    "    for token in tokens:\n",
    "        if token in inverted_index:\n",
    "            candidate_doc_ids.update(inverted_index[token])\n",
    "\n",
    "    candidate_indices = [doc_id_to_idx[doc] for doc in candidate_doc_ids if doc in doc_id_to_idx]\n",
    "    if not candidate_indices:\n",
    "        continue\n",
    "\n",
    "    scores = bm25.get_scores(tokens)\n",
    "    scored = [(i, scores[i]) for i in candidate_indices]\n",
    "    scored.sort(key=lambda x: x[1], reverse=True)\n",
    "    top_docs = [doc_ids[i] for i, _ in scored[:TOP_N]]\n",
    "\n",
    "    # Precision@10 و Recall\n",
    "    hits = [1 if doc in relevant_docs else 0 for doc in top_docs]\n",
    "    precisions.append(sum(hits) / TOP_N)\n",
    "    recalls.append(sum(hits) / len(relevant_docs))\n",
    "\n",
    "    # MAP\n",
    "    y_true = [1 if doc_ids[i] in relevant_docs else 0 for i in range(len(doc_ids))]\n",
    "    y_scores = scores\n",
    "    try:\n",
    "        ap = average_precision_score(y_true, y_scores)\n",
    "    except:\n",
    "        ap = 0.0\n",
    "    average_precisions.append(ap)\n",
    "\n",
    "    # MRR\n",
    "    for rank, doc in enumerate(top_docs, 1):\n",
    "        if doc in relevant_docs:\n",
    "            reciprocal_ranks.append(1 / rank)\n",
    "            break\n",
    "    else:\n",
    "        reciprocal_ranks.append(0.0)"
   ]
  },
  {
   "cell_type": "code",
   "execution_count": 12,
   "id": "08890e23",
   "metadata": {},
   "outputs": [],
   "source": [
    "end_time = time.perf_counter()\n",
    "elapsed_time = round(end_time - start_time, 2)"
   ]
  },
  {
   "cell_type": "code",
   "execution_count": 13,
   "id": "ffd58112",
   "metadata": {},
   "outputs": [],
   "source": [
    "# --- عرض النتائج ---\n",
    "results = {\n",
    "    \"Precision@10\": round(np.mean(precisions), 4),\n",
    "    \"Recall\": round(np.mean(recalls), 4),\n",
    "    \"MAP\": round(np.mean(average_precisions), 4),\n",
    "    \"MRR\": round(np.mean(reciprocal_ranks), 4),\n",
    "    \"Execution Time (seconds)\": elapsed_time,\n",
    "    \"Queries Evaluated\": len(precisions)\n",
    "}"
   ]
  },
  {
   "cell_type": "code",
   "execution_count": 14,
   "id": "18ec1aad",
   "metadata": {},
   "outputs": [
    {
     "data": {
      "text/html": [
       "<div>\n",
       "<style scoped>\n",
       "    .dataframe tbody tr th:only-of-type {\n",
       "        vertical-align: middle;\n",
       "    }\n",
       "\n",
       "    .dataframe tbody tr th {\n",
       "        vertical-align: top;\n",
       "    }\n",
       "\n",
       "    .dataframe thead th {\n",
       "        text-align: right;\n",
       "    }\n",
       "</style>\n",
       "<table border=\"1\" class=\"dataframe\">\n",
       "  <thead>\n",
       "    <tr style=\"text-align: right;\">\n",
       "      <th></th>\n",
       "      <th>Precision@10</th>\n",
       "      <th>Recall</th>\n",
       "      <th>MAP</th>\n",
       "      <th>MRR</th>\n",
       "      <th>Execution Time (seconds)</th>\n",
       "      <th>Queries Evaluated</th>\n",
       "    </tr>\n",
       "  </thead>\n",
       "  <tbody>\n",
       "    <tr>\n",
       "      <th>0</th>\n",
       "      <td>0.1172</td>\n",
       "      <td>0.872</td>\n",
       "      <td>0.7079</td>\n",
       "      <td>0.7619</td>\n",
       "      <td>40206.11</td>\n",
       "      <td>4999</td>\n",
       "    </tr>\n",
       "  </tbody>\n",
       "</table>\n",
       "</div>"
      ],
      "text/plain": [
       "   Precision@10  Recall     MAP     MRR  Execution Time (seconds)  \\\n",
       "0        0.1172   0.872  0.7079  0.7619                  40206.11   \n",
       "\n",
       "   Queries Evaluated  \n",
       "0               4999  "
      ]
     },
     "execution_count": 14,
     "metadata": {},
     "output_type": "execute_result"
    }
   ],
   "source": [
    "pd.DataFrame([results])"
   ]
  },
  {
   "cell_type": "code",
   "execution_count": 15,
   "id": "49b094e5",
   "metadata": {},
   "outputs": [],
   "source": [
    "# حفظ النتائج\n",
    "with open(\"bm25_evaluation_results.json\", \"w\", encoding=\"utf-8\") as f:\n",
    "    json.dump(results, f, indent=4, ensure_ascii=False)"
   ]
  },
  {
   "cell_type": "code",
   "execution_count": 16,
   "id": "7de1c5a0",
   "metadata": {},
   "outputs": [],
   "source": [
    "# إغلاق الاتصال\n",
    "conn.close()"
   ]
  }
 ],
 "metadata": {
  "jupytext": {
   "cell_metadata_filter": "-all",
   "main_language": "python",
   "notebook_metadata_filter": "-all"
  },
  "kernelspec": {
   "display_name": "Python 3.11",
   "language": "python",
   "name": "python311"
  },
  "language_info": {
   "codemirror_mode": {
    "name": "ipython",
    "version": 3
   },
   "file_extension": ".py",
   "mimetype": "text/x-python",
   "name": "python",
   "nbconvert_exporter": "python",
   "pygments_lexer": "ipython3",
   "version": "3.11.2"
  }
 },
 "nbformat": 4,
 "nbformat_minor": 5
}
