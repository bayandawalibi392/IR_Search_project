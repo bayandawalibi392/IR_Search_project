{
 "cells": [
  {
   "cell_type": "code",
   "execution_count": 11,
   "id": "3bba8463",
   "metadata": {},
   "outputs": [],
   "source": [
    "import pandas as pd"
   ]
  },
  {
   "cell_type": "code",
   "execution_count": 12,
   "id": "17a63f52",
   "metadata": {},
   "outputs": [],
   "source": [
    "# تحميل كل ملف تقييم مع تحديد نوع التمثيل\n",
    "tfidf = pd.read_json(\"tfidf_evaluation_results_webis.json\", typ='series').to_frame().T\n",
    "tfidf[\"Representation\"] = \"TF-IDF\""
   ]
  },
  {
   "cell_type": "code",
   "execution_count": 13,
   "id": "d1c6ed6a",
   "metadata": {},
   "outputs": [],
   "source": [
    "bert = pd.read_json(\"bert_evaluation_results_webis.json\", typ='series').to_frame().T\n",
    "bert[\"Representation\"] = \"BERT\""
   ]
  },
  {
   "cell_type": "code",
   "execution_count": 14,
   "id": "4c0f2603",
   "metadata": {},
   "outputs": [],
   "source": [
    "faiss = pd.read_json(\"faiss_bert_evaluation_results_webis.json\", typ='series').to_frame().T\n",
    "faiss[\"Representation\"] = \"FAISS-BERT\""
   ]
  },
  {
   "cell_type": "code",
   "execution_count": 15,
   "id": "9d3b679d",
   "metadata": {},
   "outputs": [],
   "source": [
    "hybrid = pd.read_json(\"hybrid_evaluation_results_webis.json\", typ='series').to_frame().T\n",
    "hybrid[\"Representation\"] = \"Hybrid (TF-IDF + BERT)\""
   ]
  },
  {
   "cell_type": "code",
   "execution_count": 16,
   "id": "2eb74bc3",
   "metadata": {},
   "outputs": [],
   "source": [
    "hybrid_faiss = pd.read_json(\"hybrid_vevtor_results_evaluation_webis.json\", typ='series').to_frame().T\n",
    "hybrid_faiss[\"Representation\"] = \"Hybrid (TF-IDF + FAISS-BERT)\""
   ]
  },
  {
   "cell_type": "code",
   "execution_count": 17,
   "id": "8cd96fda",
   "metadata": {},
   "outputs": [],
   "source": [
    "# دمج كل النتائج في جدول واحد\n",
    "all_results = pd.concat([tfidf, bert, faiss, hybrid , hybrid_faiss], ignore_index=True)"
   ]
  },
  {
   "cell_type": "code",
   "execution_count": 18,
   "id": "1fa14a9a",
   "metadata": {},
   "outputs": [],
   "source": [
    "# إعادة ترتيب الأعمدة لجعل اسم التمثيل أول عمود\n",
    "cols = [\"Representation\"] + [col for col in all_results.columns if col != \"Representation\"]\n",
    "all_results = all_results[cols]"
   ]
  },
  {
   "cell_type": "code",
   "execution_count": 19,
   "id": "733dcaee",
   "metadata": {},
   "outputs": [
    {
     "data": {
      "text/html": [
       "<div>\n",
       "<style scoped>\n",
       "    .dataframe tbody tr th:only-of-type {\n",
       "        vertical-align: middle;\n",
       "    }\n",
       "\n",
       "    .dataframe tbody tr th {\n",
       "        vertical-align: top;\n",
       "    }\n",
       "\n",
       "    .dataframe thead th {\n",
       "        text-align: right;\n",
       "    }\n",
       "</style>\n",
       "<table border=\"1\" class=\"dataframe\">\n",
       "  <thead>\n",
       "    <tr style=\"text-align: right;\">\n",
       "      <th></th>\n",
       "      <th>Representation</th>\n",
       "      <th>MAP</th>\n",
       "      <th>MRR</th>\n",
       "      <th>Recall@10</th>\n",
       "      <th>Precision@10</th>\n",
       "      <th>Execution Time (s)</th>\n",
       "      <th>Queries Evaluated</th>\n",
       "      <th>Recall</th>\n",
       "      <th>Execution Time (seconds)</th>\n",
       "    </tr>\n",
       "  </thead>\n",
       "  <tbody>\n",
       "    <tr>\n",
       "      <th>0</th>\n",
       "      <td>TF-IDF</td>\n",
       "      <td>0.4268</td>\n",
       "      <td>0.5028</td>\n",
       "      <td>0.0546</td>\n",
       "      <td>0.2469</td>\n",
       "      <td>28.93</td>\n",
       "      <td>49.0</td>\n",
       "      <td>NaN</td>\n",
       "      <td>NaN</td>\n",
       "    </tr>\n",
       "    <tr>\n",
       "      <th>1</th>\n",
       "      <td>BERT</td>\n",
       "      <td>0.3494</td>\n",
       "      <td>0.4441</td>\n",
       "      <td>0.0359</td>\n",
       "      <td>0.1643</td>\n",
       "      <td>10.13</td>\n",
       "      <td>42.0</td>\n",
       "      <td>NaN</td>\n",
       "      <td>NaN</td>\n",
       "    </tr>\n",
       "    <tr>\n",
       "      <th>2</th>\n",
       "      <td>FAISS-BERT</td>\n",
       "      <td>0.4029</td>\n",
       "      <td>0.4678</td>\n",
       "      <td>0.0412</td>\n",
       "      <td>0.1857</td>\n",
       "      <td>3.84</td>\n",
       "      <td>49.0</td>\n",
       "      <td>NaN</td>\n",
       "      <td>NaN</td>\n",
       "    </tr>\n",
       "    <tr>\n",
       "      <th>3</th>\n",
       "      <td>Hybrid (TF-IDF + BERT)</td>\n",
       "      <td>0.4271</td>\n",
       "      <td>0.5106</td>\n",
       "      <td>0.0572</td>\n",
       "      <td>0.2571</td>\n",
       "      <td>57.71</td>\n",
       "      <td>49.0</td>\n",
       "      <td>NaN</td>\n",
       "      <td>NaN</td>\n",
       "    </tr>\n",
       "    <tr>\n",
       "      <th>4</th>\n",
       "      <td>Hybrid (TF-IDF + FAISS-BERT)</td>\n",
       "      <td>0.4462</td>\n",
       "      <td>0.5223</td>\n",
       "      <td>NaN</td>\n",
       "      <td>0.2571</td>\n",
       "      <td>NaN</td>\n",
       "      <td>49.0</td>\n",
       "      <td>0.0568</td>\n",
       "      <td>62.16</td>\n",
       "    </tr>\n",
       "  </tbody>\n",
       "</table>\n",
       "</div>"
      ],
      "text/plain": [
       "                 Representation     MAP     MRR  Recall@10  Precision@10  \\\n",
       "0                        TF-IDF  0.4268  0.5028     0.0546        0.2469   \n",
       "1                          BERT  0.3494  0.4441     0.0359        0.1643   \n",
       "2                    FAISS-BERT  0.4029  0.4678     0.0412        0.1857   \n",
       "3        Hybrid (TF-IDF + BERT)  0.4271  0.5106     0.0572        0.2571   \n",
       "4  Hybrid (TF-IDF + FAISS-BERT)  0.4462  0.5223        NaN        0.2571   \n",
       "\n",
       "   Execution Time (s)  Queries Evaluated  Recall  Execution Time (seconds)  \n",
       "0               28.93               49.0     NaN                       NaN  \n",
       "1               10.13               42.0     NaN                       NaN  \n",
       "2                3.84               49.0     NaN                       NaN  \n",
       "3               57.71               49.0     NaN                       NaN  \n",
       "4                 NaN               49.0  0.0568                     62.16  "
      ]
     },
     "metadata": {},
     "output_type": "display_data"
    }
   ],
   "source": [
    "# عرض النتائج في جدول\n",
    "display(all_results)"
   ]
  },
  {
   "cell_type": "code",
   "execution_count": 20,
   "id": "3c3dd149",
   "metadata": {},
   "outputs": [],
   "source": [
    "# حفظ الجدول في ملف\n",
    "all_results.to_csv(\"all_evaluation_results.csv\", index=False)"
   ]
  }
 ],
 "metadata": {
  "jupytext": {
   "cell_metadata_filter": "-all",
   "main_language": "python",
   "notebook_metadata_filter": "-all"
  },
  "kernelspec": {
   "display_name": "Python 3.11",
   "language": "python",
   "name": "python311"
  },
  "language_info": {
   "codemirror_mode": {
    "name": "ipython",
    "version": 3
   },
   "file_extension": ".py",
   "mimetype": "text/x-python",
   "name": "python",
   "nbconvert_exporter": "python",
   "pygments_lexer": "ipython3",
   "version": "3.11.2"
  }
 },
 "nbformat": 4,
 "nbformat_minor": 5
}
